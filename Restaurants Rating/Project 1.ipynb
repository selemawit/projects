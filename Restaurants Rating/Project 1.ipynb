{
 "cells": [
  {
   "cell_type": "code",
   "execution_count": 1,
   "metadata": {},
   "outputs": [],
   "source": [
    "import pandas as pd\n",
    "import numpy as np\n",
    "import matplotlib.pyplot as plt\n",
    "import seaborn as sns"
   ]
  },
  {
   "cell_type": "code",
   "execution_count": 2,
   "metadata": {},
   "outputs": [],
   "source": [
    "df= pd.read_excel(\"C:/Users/Selam/Desktop/smiplilearn/capstone video/project1/1591617926_data/data.xlsx\")"
   ]
  },
  {
   "cell_type": "code",
   "execution_count": 3,
   "metadata": {},
   "outputs": [
    {
     "data": {
      "text/html": [
       "<div>\n",
       "<style scoped>\n",
       "    .dataframe tbody tr th:only-of-type {\n",
       "        vertical-align: middle;\n",
       "    }\n",
       "\n",
       "    .dataframe tbody tr th {\n",
       "        vertical-align: top;\n",
       "    }\n",
       "\n",
       "    .dataframe thead th {\n",
       "        text-align: right;\n",
       "    }\n",
       "</style>\n",
       "<table border=\"1\" class=\"dataframe\">\n",
       "  <thead>\n",
       "    <tr style=\"text-align: right;\">\n",
       "      <th></th>\n",
       "      <th>Restaurant ID</th>\n",
       "      <th>Restaurant Name</th>\n",
       "      <th>Country Code</th>\n",
       "      <th>City</th>\n",
       "      <th>Address</th>\n",
       "      <th>Locality</th>\n",
       "      <th>Locality Verbose</th>\n",
       "      <th>Longitude</th>\n",
       "      <th>Latitude</th>\n",
       "      <th>Cuisines</th>\n",
       "      <th>Average Cost for two</th>\n",
       "      <th>Currency</th>\n",
       "      <th>Has Table booking</th>\n",
       "      <th>Has Online delivery</th>\n",
       "      <th>Price range</th>\n",
       "      <th>Aggregate rating</th>\n",
       "      <th>Rating color</th>\n",
       "      <th>Rating text</th>\n",
       "      <th>Votes</th>\n",
       "    </tr>\n",
       "  </thead>\n",
       "  <tbody>\n",
       "    <tr>\n",
       "      <th>9546</th>\n",
       "      <td>18279289</td>\n",
       "      <td>BMG - All Day Dining</td>\n",
       "      <td>1</td>\n",
       "      <td>Dehradun</td>\n",
       "      <td>140 A, Rajpur Road, Jakhan, Dehradun</td>\n",
       "      <td>Jakhan</td>\n",
       "      <td>Jakhan, Dehradun</td>\n",
       "      <td>78.068890</td>\n",
       "      <td>30.362686</td>\n",
       "      <td>Chinese, North Indian, Fast Food</td>\n",
       "      <td>0</td>\n",
       "      <td>Indian Rupees(Rs.)</td>\n",
       "      <td>No</td>\n",
       "      <td>No</td>\n",
       "      <td>1</td>\n",
       "      <td>4.3</td>\n",
       "      <td>Green</td>\n",
       "      <td>Very Good</td>\n",
       "      <td>63</td>\n",
       "    </tr>\n",
       "    <tr>\n",
       "      <th>9547</th>\n",
       "      <td>2300497</td>\n",
       "      <td>Atmosphere Grill Cafe Sheesha</td>\n",
       "      <td>1</td>\n",
       "      <td>Kanpur</td>\n",
       "      <td>8th Floor, J.S. Tower, 16/106 - Mall Road, Kan...</td>\n",
       "      <td>Mall Road</td>\n",
       "      <td>Mall Road, Kanpur</td>\n",
       "      <td>80.354002</td>\n",
       "      <td>26.472001</td>\n",
       "      <td>Indian, Chinese, Continental</td>\n",
       "      <td>0</td>\n",
       "      <td>Indian Rupees(Rs.)</td>\n",
       "      <td>No</td>\n",
       "      <td>No</td>\n",
       "      <td>1</td>\n",
       "      <td>3.6</td>\n",
       "      <td>Yellow</td>\n",
       "      <td>Good</td>\n",
       "      <td>34</td>\n",
       "    </tr>\n",
       "    <tr>\n",
       "      <th>9548</th>\n",
       "      <td>18312106</td>\n",
       "      <td>UrbanCrave</td>\n",
       "      <td>1</td>\n",
       "      <td>Kanpur</td>\n",
       "      <td>14/125, The Mall, Mall Road, Colonelganj, Para...</td>\n",
       "      <td>Parade</td>\n",
       "      <td>Parade, Kanpur</td>\n",
       "      <td>80.342796</td>\n",
       "      <td>26.474986</td>\n",
       "      <td>Cafe, Continental, Desserts, Ice Cream, Italia...</td>\n",
       "      <td>0</td>\n",
       "      <td>Indian Rupees(Rs.)</td>\n",
       "      <td>No</td>\n",
       "      <td>No</td>\n",
       "      <td>1</td>\n",
       "      <td>3.9</td>\n",
       "      <td>Yellow</td>\n",
       "      <td>Good</td>\n",
       "      <td>127</td>\n",
       "    </tr>\n",
       "    <tr>\n",
       "      <th>9549</th>\n",
       "      <td>3900245</td>\n",
       "      <td>Deena Chat Bhandar</td>\n",
       "      <td>1</td>\n",
       "      <td>Varanasi</td>\n",
       "      <td>D-47/184, Luxa Road, Dashaswmedh Road, Varanasi</td>\n",
       "      <td>Dashaswmedh Road</td>\n",
       "      <td>Dashaswmedh Road, Varanasi</td>\n",
       "      <td>0.000000</td>\n",
       "      <td>0.000000</td>\n",
       "      <td>Street Food</td>\n",
       "      <td>0</td>\n",
       "      <td>Indian Rupees(Rs.)</td>\n",
       "      <td>No</td>\n",
       "      <td>No</td>\n",
       "      <td>1</td>\n",
       "      <td>3.8</td>\n",
       "      <td>Yellow</td>\n",
       "      <td>Good</td>\n",
       "      <td>78</td>\n",
       "    </tr>\n",
       "    <tr>\n",
       "      <th>9550</th>\n",
       "      <td>18246202</td>\n",
       "      <td>VNS Live Studio</td>\n",
       "      <td>1</td>\n",
       "      <td>Varanasi</td>\n",
       "      <td>Hotel Varuna Ground Floor, 22 Gulab Bagh, Sigr...</td>\n",
       "      <td>Sigra</td>\n",
       "      <td>Sigra, Varanasi</td>\n",
       "      <td>82.991694</td>\n",
       "      <td>25.318345</td>\n",
       "      <td>Chinese, North Indian</td>\n",
       "      <td>0</td>\n",
       "      <td>Indian Rupees(Rs.)</td>\n",
       "      <td>No</td>\n",
       "      <td>No</td>\n",
       "      <td>1</td>\n",
       "      <td>3.5</td>\n",
       "      <td>Yellow</td>\n",
       "      <td>Good</td>\n",
       "      <td>109</td>\n",
       "    </tr>\n",
       "  </tbody>\n",
       "</table>\n",
       "</div>"
      ],
      "text/plain": [
       "      Restaurant ID                Restaurant Name  Country Code      City  \\\n",
       "9546       18279289           BMG - All Day Dining             1  Dehradun   \n",
       "9547        2300497  Atmosphere Grill Cafe Sheesha             1    Kanpur   \n",
       "9548       18312106                     UrbanCrave             1    Kanpur   \n",
       "9549        3900245             Deena Chat Bhandar             1  Varanasi   \n",
       "9550       18246202                VNS Live Studio             1  Varanasi   \n",
       "\n",
       "                                                Address          Locality  \\\n",
       "9546               140 A, Rajpur Road, Jakhan, Dehradun            Jakhan   \n",
       "9547  8th Floor, J.S. Tower, 16/106 - Mall Road, Kan...         Mall Road   \n",
       "9548  14/125, The Mall, Mall Road, Colonelganj, Para...            Parade   \n",
       "9549    D-47/184, Luxa Road, Dashaswmedh Road, Varanasi  Dashaswmedh Road   \n",
       "9550  Hotel Varuna Ground Floor, 22 Gulab Bagh, Sigr...             Sigra   \n",
       "\n",
       "                Locality Verbose  Longitude   Latitude  \\\n",
       "9546            Jakhan, Dehradun  78.068890  30.362686   \n",
       "9547           Mall Road, Kanpur  80.354002  26.472001   \n",
       "9548              Parade, Kanpur  80.342796  26.474986   \n",
       "9549  Dashaswmedh Road, Varanasi   0.000000   0.000000   \n",
       "9550             Sigra, Varanasi  82.991694  25.318345   \n",
       "\n",
       "                                               Cuisines  Average Cost for two  \\\n",
       "9546                   Chinese, North Indian, Fast Food                     0   \n",
       "9547                       Indian, Chinese, Continental                     0   \n",
       "9548  Cafe, Continental, Desserts, Ice Cream, Italia...                     0   \n",
       "9549                                        Street Food                     0   \n",
       "9550                              Chinese, North Indian                     0   \n",
       "\n",
       "                Currency Has Table booking Has Online delivery  Price range  \\\n",
       "9546  Indian Rupees(Rs.)                No                  No            1   \n",
       "9547  Indian Rupees(Rs.)                No                  No            1   \n",
       "9548  Indian Rupees(Rs.)                No                  No            1   \n",
       "9549  Indian Rupees(Rs.)                No                  No            1   \n",
       "9550  Indian Rupees(Rs.)                No                  No            1   \n",
       "\n",
       "      Aggregate rating Rating color Rating text  Votes  \n",
       "9546               4.3        Green   Very Good     63  \n",
       "9547               3.6       Yellow        Good     34  \n",
       "9548               3.9       Yellow        Good    127  \n",
       "9549               3.8       Yellow        Good     78  \n",
       "9550               3.5       Yellow        Good    109  "
      ]
     },
     "execution_count": 3,
     "metadata": {},
     "output_type": "execute_result"
    }
   ],
   "source": [
    "df.head(5)\n",
    "df.tail(5)"
   ]
  },
  {
   "cell_type": "code",
   "execution_count": 4,
   "metadata": {},
   "outputs": [
    {
     "name": "stdout",
     "output_type": "stream",
     "text": [
      "<class 'pandas.core.frame.DataFrame'>\n",
      "RangeIndex: 9551 entries, 0 to 9550\n",
      "Data columns (total 19 columns):\n",
      " #   Column                Non-Null Count  Dtype  \n",
      "---  ------                --------------  -----  \n",
      " 0   Restaurant ID         9551 non-null   int64  \n",
      " 1   Restaurant Name       9550 non-null   object \n",
      " 2   Country Code          9551 non-null   int64  \n",
      " 3   City                  9551 non-null   object \n",
      " 4   Address               9551 non-null   object \n",
      " 5   Locality              9551 non-null   object \n",
      " 6   Locality Verbose      9551 non-null   object \n",
      " 7   Longitude             9551 non-null   float64\n",
      " 8   Latitude              9551 non-null   float64\n",
      " 9   Cuisines              9542 non-null   object \n",
      " 10  Average Cost for two  9551 non-null   int64  \n",
      " 11  Currency              9551 non-null   object \n",
      " 12  Has Table booking     9551 non-null   object \n",
      " 13  Has Online delivery   9551 non-null   object \n",
      " 14  Price range           9551 non-null   int64  \n",
      " 15  Aggregate rating      9551 non-null   float64\n",
      " 16  Rating color          9551 non-null   object \n",
      " 17  Rating text           9551 non-null   object \n",
      " 18  Votes                 9551 non-null   int64  \n",
      "dtypes: float64(3), int64(5), object(11)\n",
      "memory usage: 1.4+ MB\n"
     ]
    }
   ],
   "source": [
    "df.info()"
   ]
  },
  {
   "cell_type": "code",
   "execution_count": 5,
   "metadata": {},
   "outputs": [
    {
     "data": {
      "text/plain": [
       "(9551, 19)"
      ]
     },
     "execution_count": 5,
     "metadata": {},
     "output_type": "execute_result"
    }
   ],
   "source": [
    "df.shape"
   ]
  },
  {
   "cell_type": "code",
   "execution_count": 6,
   "metadata": {},
   "outputs": [
    {
     "data": {
      "text/html": [
       "<div>\n",
       "<style scoped>\n",
       "    .dataframe tbody tr th:only-of-type {\n",
       "        vertical-align: middle;\n",
       "    }\n",
       "\n",
       "    .dataframe tbody tr th {\n",
       "        vertical-align: top;\n",
       "    }\n",
       "\n",
       "    .dataframe thead th {\n",
       "        text-align: right;\n",
       "    }\n",
       "</style>\n",
       "<table border=\"1\" class=\"dataframe\">\n",
       "  <thead>\n",
       "    <tr style=\"text-align: right;\">\n",
       "      <th></th>\n",
       "      <th>Restaurant ID</th>\n",
       "      <th>Country Code</th>\n",
       "      <th>Longitude</th>\n",
       "      <th>Latitude</th>\n",
       "      <th>Average Cost for two</th>\n",
       "      <th>Price range</th>\n",
       "      <th>Aggregate rating</th>\n",
       "      <th>Votes</th>\n",
       "    </tr>\n",
       "  </thead>\n",
       "  <tbody>\n",
       "    <tr>\n",
       "      <th>count</th>\n",
       "      <td>9.551000e+03</td>\n",
       "      <td>9551.000000</td>\n",
       "      <td>9551.000000</td>\n",
       "      <td>9551.000000</td>\n",
       "      <td>9551.000000</td>\n",
       "      <td>9551.000000</td>\n",
       "      <td>9551.000000</td>\n",
       "      <td>9551.000000</td>\n",
       "    </tr>\n",
       "    <tr>\n",
       "      <th>mean</th>\n",
       "      <td>9.051128e+06</td>\n",
       "      <td>18.365616</td>\n",
       "      <td>64.126574</td>\n",
       "      <td>25.854381</td>\n",
       "      <td>1199.210763</td>\n",
       "      <td>1.804837</td>\n",
       "      <td>2.666370</td>\n",
       "      <td>156.909748</td>\n",
       "    </tr>\n",
       "    <tr>\n",
       "      <th>std</th>\n",
       "      <td>8.791521e+06</td>\n",
       "      <td>56.750546</td>\n",
       "      <td>41.467058</td>\n",
       "      <td>11.007935</td>\n",
       "      <td>16121.183073</td>\n",
       "      <td>0.905609</td>\n",
       "      <td>1.516378</td>\n",
       "      <td>430.169145</td>\n",
       "    </tr>\n",
       "    <tr>\n",
       "      <th>min</th>\n",
       "      <td>5.300000e+01</td>\n",
       "      <td>1.000000</td>\n",
       "      <td>-157.948486</td>\n",
       "      <td>-41.330428</td>\n",
       "      <td>0.000000</td>\n",
       "      <td>1.000000</td>\n",
       "      <td>0.000000</td>\n",
       "      <td>0.000000</td>\n",
       "    </tr>\n",
       "    <tr>\n",
       "      <th>25%</th>\n",
       "      <td>3.019625e+05</td>\n",
       "      <td>1.000000</td>\n",
       "      <td>77.081343</td>\n",
       "      <td>28.478713</td>\n",
       "      <td>250.000000</td>\n",
       "      <td>1.000000</td>\n",
       "      <td>2.500000</td>\n",
       "      <td>5.000000</td>\n",
       "    </tr>\n",
       "    <tr>\n",
       "      <th>50%</th>\n",
       "      <td>6.004089e+06</td>\n",
       "      <td>1.000000</td>\n",
       "      <td>77.191964</td>\n",
       "      <td>28.570469</td>\n",
       "      <td>400.000000</td>\n",
       "      <td>2.000000</td>\n",
       "      <td>3.200000</td>\n",
       "      <td>31.000000</td>\n",
       "    </tr>\n",
       "    <tr>\n",
       "      <th>75%</th>\n",
       "      <td>1.835229e+07</td>\n",
       "      <td>1.000000</td>\n",
       "      <td>77.282006</td>\n",
       "      <td>28.642758</td>\n",
       "      <td>700.000000</td>\n",
       "      <td>2.000000</td>\n",
       "      <td>3.700000</td>\n",
       "      <td>131.000000</td>\n",
       "    </tr>\n",
       "    <tr>\n",
       "      <th>max</th>\n",
       "      <td>1.850065e+07</td>\n",
       "      <td>216.000000</td>\n",
       "      <td>174.832089</td>\n",
       "      <td>55.976980</td>\n",
       "      <td>800000.000000</td>\n",
       "      <td>4.000000</td>\n",
       "      <td>4.900000</td>\n",
       "      <td>10934.000000</td>\n",
       "    </tr>\n",
       "  </tbody>\n",
       "</table>\n",
       "</div>"
      ],
      "text/plain": [
       "       Restaurant ID  Country Code    Longitude     Latitude  \\\n",
       "count   9.551000e+03   9551.000000  9551.000000  9551.000000   \n",
       "mean    9.051128e+06     18.365616    64.126574    25.854381   \n",
       "std     8.791521e+06     56.750546    41.467058    11.007935   \n",
       "min     5.300000e+01      1.000000  -157.948486   -41.330428   \n",
       "25%     3.019625e+05      1.000000    77.081343    28.478713   \n",
       "50%     6.004089e+06      1.000000    77.191964    28.570469   \n",
       "75%     1.835229e+07      1.000000    77.282006    28.642758   \n",
       "max     1.850065e+07    216.000000   174.832089    55.976980   \n",
       "\n",
       "       Average Cost for two  Price range  Aggregate rating         Votes  \n",
       "count           9551.000000  9551.000000       9551.000000   9551.000000  \n",
       "mean            1199.210763     1.804837          2.666370    156.909748  \n",
       "std            16121.183073     0.905609          1.516378    430.169145  \n",
       "min                0.000000     1.000000          0.000000      0.000000  \n",
       "25%              250.000000     1.000000          2.500000      5.000000  \n",
       "50%              400.000000     2.000000          3.200000     31.000000  \n",
       "75%              700.000000     2.000000          3.700000    131.000000  \n",
       "max           800000.000000     4.000000          4.900000  10934.000000  "
      ]
     },
     "execution_count": 6,
     "metadata": {},
     "output_type": "execute_result"
    }
   ],
   "source": [
    "df.describe()"
   ]
  },
  {
   "cell_type": "code",
   "execution_count": 7,
   "metadata": {},
   "outputs": [
    {
     "data": {
      "text/plain": [
       "\" It look like we have 1 restaurant name and 9 cuisines missing.\\nSince we have 9551 rows droping 10 rows that have null value wouldn't hurt the data set. \""
      ]
     },
     "execution_count": 7,
     "metadata": {},
     "output_type": "execute_result"
    }
   ],
   "source": [
    "#checking null value\n",
    "df.isna().sum(axis=0)\n",
    "\"\"\" It look like we have 1 restaurant name and 9 cuisines missing.\n",
    "Since we have 9551 rows droping 10 rows that have null value wouldn't hurt the data set. \"\"\""
   ]
  },
  {
   "cell_type": "code",
   "execution_count": 8,
   "metadata": {},
   "outputs": [],
   "source": [
    "#droping the null value\n",
    "df1= df.dropna()"
   ]
  },
  {
   "cell_type": "code",
   "execution_count": 9,
   "metadata": {},
   "outputs": [
    {
     "data": {
      "text/plain": [
       "Restaurant ID           0\n",
       "Restaurant Name         0\n",
       "Country Code            0\n",
       "City                    0\n",
       "Address                 0\n",
       "Locality                0\n",
       "Locality Verbose        0\n",
       "Longitude               0\n",
       "Latitude                0\n",
       "Cuisines                0\n",
       "Average Cost for two    0\n",
       "Currency                0\n",
       "Has Table booking       0\n",
       "Has Online delivery     0\n",
       "Price range             0\n",
       "Aggregate rating        0\n",
       "Rating color            0\n",
       "Rating text             0\n",
       "Votes                   0\n",
       "dtype: int64"
      ]
     },
     "execution_count": 9,
     "metadata": {},
     "output_type": "execute_result"
    }
   ],
   "source": [
    "#check\n",
    "df1.isna().sum(axis=0)"
   ]
  },
  {
   "cell_type": "code",
   "execution_count": 10,
   "metadata": {},
   "outputs": [
    {
     "data": {
      "text/html": [
       "<div>\n",
       "<style scoped>\n",
       "    .dataframe tbody tr th:only-of-type {\n",
       "        vertical-align: middle;\n",
       "    }\n",
       "\n",
       "    .dataframe tbody tr th {\n",
       "        vertical-align: top;\n",
       "    }\n",
       "\n",
       "    .dataframe thead th {\n",
       "        text-align: right;\n",
       "    }\n",
       "</style>\n",
       "<table border=\"1\" class=\"dataframe\">\n",
       "  <thead>\n",
       "    <tr style=\"text-align: right;\">\n",
       "      <th></th>\n",
       "      <th>Restaurant ID</th>\n",
       "      <th>Restaurant Name</th>\n",
       "      <th>Country Code</th>\n",
       "      <th>City</th>\n",
       "      <th>Address</th>\n",
       "      <th>Locality</th>\n",
       "      <th>Locality Verbose</th>\n",
       "      <th>Longitude</th>\n",
       "      <th>Latitude</th>\n",
       "      <th>Cuisines</th>\n",
       "      <th>Average Cost for two</th>\n",
       "      <th>Currency</th>\n",
       "      <th>Has Table booking</th>\n",
       "      <th>Has Online delivery</th>\n",
       "      <th>Price range</th>\n",
       "      <th>Aggregate rating</th>\n",
       "      <th>Rating color</th>\n",
       "      <th>Rating text</th>\n",
       "      <th>Votes</th>\n",
       "    </tr>\n",
       "  </thead>\n",
       "  <tbody>\n",
       "  </tbody>\n",
       "</table>\n",
       "</div>"
      ],
      "text/plain": [
       "Empty DataFrame\n",
       "Columns: [Restaurant ID, Restaurant Name, Country Code, City, Address, Locality, Locality Verbose, Longitude, Latitude, Cuisines, Average Cost for two, Currency, Has Table booking, Has Online delivery, Price range, Aggregate rating, Rating color, Rating text, Votes]\n",
       "Index: []"
      ]
     },
     "execution_count": 10,
     "metadata": {},
     "output_type": "execute_result"
    }
   ],
   "source": [
    "#No duplicated rows\n",
    "df1[df1.duplicated()]"
   ]
  },
  {
   "cell_type": "code",
   "execution_count": 11,
   "metadata": {},
   "outputs": [],
   "source": [
    "#droping columns that are redundant or columns we do not need \n",
    "df1= df1.drop([\"Address\",\"Locality\",\"Locality Verbose\",'Rating color'],axis= 1)"
   ]
  },
  {
   "cell_type": "code",
   "execution_count": 12,
   "metadata": {},
   "outputs": [],
   "source": [
    "#droping column we don't need\n",
    "df1=df1.drop([\"Restaurant ID\"],axis=1)"
   ]
  },
  {
   "cell_type": "code",
   "execution_count": 13,
   "metadata": {},
   "outputs": [
    {
     "data": {
      "text/html": [
       "<div>\n",
       "<style scoped>\n",
       "    .dataframe tbody tr th:only-of-type {\n",
       "        vertical-align: middle;\n",
       "    }\n",
       "\n",
       "    .dataframe tbody tr th {\n",
       "        vertical-align: top;\n",
       "    }\n",
       "\n",
       "    .dataframe thead th {\n",
       "        text-align: right;\n",
       "    }\n",
       "</style>\n",
       "<table border=\"1\" class=\"dataframe\">\n",
       "  <thead>\n",
       "    <tr style=\"text-align: right;\">\n",
       "      <th></th>\n",
       "      <th>Restaurant Name</th>\n",
       "      <th>Country Code</th>\n",
       "      <th>City</th>\n",
       "      <th>Longitude</th>\n",
       "      <th>Latitude</th>\n",
       "      <th>Cuisines</th>\n",
       "      <th>Average Cost for two</th>\n",
       "      <th>Currency</th>\n",
       "      <th>Has Table booking</th>\n",
       "      <th>Has Online delivery</th>\n",
       "      <th>Price range</th>\n",
       "      <th>Aggregate rating</th>\n",
       "      <th>Rating text</th>\n",
       "      <th>Votes</th>\n",
       "    </tr>\n",
       "  </thead>\n",
       "  <tbody>\n",
       "    <tr>\n",
       "      <th>0</th>\n",
       "      <td>Skye</td>\n",
       "      <td>94</td>\n",
       "      <td>Jakarta</td>\n",
       "      <td>106.821999</td>\n",
       "      <td>-6.196778</td>\n",
       "      <td>Italian, Continental</td>\n",
       "      <td>800000</td>\n",
       "      <td>Indonesian Rupiah(IDR)</td>\n",
       "      <td>No</td>\n",
       "      <td>No</td>\n",
       "      <td>3</td>\n",
       "      <td>4.1</td>\n",
       "      <td>Very Good</td>\n",
       "      <td>1498</td>\n",
       "    </tr>\n",
       "    <tr>\n",
       "      <th>1</th>\n",
       "      <td>Satoo - Hotel Shangri-La</td>\n",
       "      <td>94</td>\n",
       "      <td>Jakarta</td>\n",
       "      <td>106.818961</td>\n",
       "      <td>-6.203292</td>\n",
       "      <td>Asian, Indonesian, Western</td>\n",
       "      <td>800000</td>\n",
       "      <td>Indonesian Rupiah(IDR)</td>\n",
       "      <td>No</td>\n",
       "      <td>No</td>\n",
       "      <td>3</td>\n",
       "      <td>4.6</td>\n",
       "      <td>Excellent</td>\n",
       "      <td>873</td>\n",
       "    </tr>\n",
       "    <tr>\n",
       "      <th>2</th>\n",
       "      <td>Sushi Masa</td>\n",
       "      <td>94</td>\n",
       "      <td>Jakarta</td>\n",
       "      <td>106.800144</td>\n",
       "      <td>-6.101298</td>\n",
       "      <td>Sushi, Japanese</td>\n",
       "      <td>500000</td>\n",
       "      <td>Indonesian Rupiah(IDR)</td>\n",
       "      <td>No</td>\n",
       "      <td>No</td>\n",
       "      <td>3</td>\n",
       "      <td>4.9</td>\n",
       "      <td>Excellent</td>\n",
       "      <td>605</td>\n",
       "    </tr>\n",
       "    <tr>\n",
       "      <th>3</th>\n",
       "      <td>3 Wise Monkeys</td>\n",
       "      <td>94</td>\n",
       "      <td>Jakarta</td>\n",
       "      <td>106.813400</td>\n",
       "      <td>-6.235241</td>\n",
       "      <td>Japanese</td>\n",
       "      <td>450000</td>\n",
       "      <td>Indonesian Rupiah(IDR)</td>\n",
       "      <td>No</td>\n",
       "      <td>No</td>\n",
       "      <td>3</td>\n",
       "      <td>4.2</td>\n",
       "      <td>Very Good</td>\n",
       "      <td>395</td>\n",
       "    </tr>\n",
       "    <tr>\n",
       "      <th>4</th>\n",
       "      <td>Avec Moi Restaurant and Bar</td>\n",
       "      <td>94</td>\n",
       "      <td>Jakarta</td>\n",
       "      <td>106.821023</td>\n",
       "      <td>-6.196270</td>\n",
       "      <td>French, Western</td>\n",
       "      <td>350000</td>\n",
       "      <td>Indonesian Rupiah(IDR)</td>\n",
       "      <td>No</td>\n",
       "      <td>No</td>\n",
       "      <td>3</td>\n",
       "      <td>4.3</td>\n",
       "      <td>Very Good</td>\n",
       "      <td>243</td>\n",
       "    </tr>\n",
       "    <tr>\n",
       "      <th>...</th>\n",
       "      <td>...</td>\n",
       "      <td>...</td>\n",
       "      <td>...</td>\n",
       "      <td>...</td>\n",
       "      <td>...</td>\n",
       "      <td>...</td>\n",
       "      <td>...</td>\n",
       "      <td>...</td>\n",
       "      <td>...</td>\n",
       "      <td>...</td>\n",
       "      <td>...</td>\n",
       "      <td>...</td>\n",
       "      <td>...</td>\n",
       "      <td>...</td>\n",
       "    </tr>\n",
       "    <tr>\n",
       "      <th>9546</th>\n",
       "      <td>BMG - All Day Dining</td>\n",
       "      <td>1</td>\n",
       "      <td>Dehradun</td>\n",
       "      <td>78.068890</td>\n",
       "      <td>30.362686</td>\n",
       "      <td>Chinese, North Indian, Fast Food</td>\n",
       "      <td>0</td>\n",
       "      <td>Indian Rupees(Rs.)</td>\n",
       "      <td>No</td>\n",
       "      <td>No</td>\n",
       "      <td>1</td>\n",
       "      <td>4.3</td>\n",
       "      <td>Very Good</td>\n",
       "      <td>63</td>\n",
       "    </tr>\n",
       "    <tr>\n",
       "      <th>9547</th>\n",
       "      <td>Atmosphere Grill Cafe Sheesha</td>\n",
       "      <td>1</td>\n",
       "      <td>Kanpur</td>\n",
       "      <td>80.354002</td>\n",
       "      <td>26.472001</td>\n",
       "      <td>Indian, Chinese, Continental</td>\n",
       "      <td>0</td>\n",
       "      <td>Indian Rupees(Rs.)</td>\n",
       "      <td>No</td>\n",
       "      <td>No</td>\n",
       "      <td>1</td>\n",
       "      <td>3.6</td>\n",
       "      <td>Good</td>\n",
       "      <td>34</td>\n",
       "    </tr>\n",
       "    <tr>\n",
       "      <th>9548</th>\n",
       "      <td>UrbanCrave</td>\n",
       "      <td>1</td>\n",
       "      <td>Kanpur</td>\n",
       "      <td>80.342796</td>\n",
       "      <td>26.474986</td>\n",
       "      <td>Cafe, Continental, Desserts, Ice Cream, Italia...</td>\n",
       "      <td>0</td>\n",
       "      <td>Indian Rupees(Rs.)</td>\n",
       "      <td>No</td>\n",
       "      <td>No</td>\n",
       "      <td>1</td>\n",
       "      <td>3.9</td>\n",
       "      <td>Good</td>\n",
       "      <td>127</td>\n",
       "    </tr>\n",
       "    <tr>\n",
       "      <th>9549</th>\n",
       "      <td>Deena Chat Bhandar</td>\n",
       "      <td>1</td>\n",
       "      <td>Varanasi</td>\n",
       "      <td>0.000000</td>\n",
       "      <td>0.000000</td>\n",
       "      <td>Street Food</td>\n",
       "      <td>0</td>\n",
       "      <td>Indian Rupees(Rs.)</td>\n",
       "      <td>No</td>\n",
       "      <td>No</td>\n",
       "      <td>1</td>\n",
       "      <td>3.8</td>\n",
       "      <td>Good</td>\n",
       "      <td>78</td>\n",
       "    </tr>\n",
       "    <tr>\n",
       "      <th>9550</th>\n",
       "      <td>VNS Live Studio</td>\n",
       "      <td>1</td>\n",
       "      <td>Varanasi</td>\n",
       "      <td>82.991694</td>\n",
       "      <td>25.318345</td>\n",
       "      <td>Chinese, North Indian</td>\n",
       "      <td>0</td>\n",
       "      <td>Indian Rupees(Rs.)</td>\n",
       "      <td>No</td>\n",
       "      <td>No</td>\n",
       "      <td>1</td>\n",
       "      <td>3.5</td>\n",
       "      <td>Good</td>\n",
       "      <td>109</td>\n",
       "    </tr>\n",
       "  </tbody>\n",
       "</table>\n",
       "<p>9541 rows × 14 columns</p>\n",
       "</div>"
      ],
      "text/plain": [
       "                    Restaurant Name  Country Code      City   Longitude  \\\n",
       "0                              Skye            94   Jakarta  106.821999   \n",
       "1          Satoo - Hotel Shangri-La            94   Jakarta  106.818961   \n",
       "2                        Sushi Masa            94   Jakarta  106.800144   \n",
       "3                    3 Wise Monkeys            94   Jakarta  106.813400   \n",
       "4       Avec Moi Restaurant and Bar            94   Jakarta  106.821023   \n",
       "...                             ...           ...       ...         ...   \n",
       "9546           BMG - All Day Dining             1  Dehradun   78.068890   \n",
       "9547  Atmosphere Grill Cafe Sheesha             1    Kanpur   80.354002   \n",
       "9548                     UrbanCrave             1    Kanpur   80.342796   \n",
       "9549             Deena Chat Bhandar             1  Varanasi    0.000000   \n",
       "9550                VNS Live Studio             1  Varanasi   82.991694   \n",
       "\n",
       "       Latitude                                           Cuisines  \\\n",
       "0     -6.196778                               Italian, Continental   \n",
       "1     -6.203292                         Asian, Indonesian, Western   \n",
       "2     -6.101298                                    Sushi, Japanese   \n",
       "3     -6.235241                                           Japanese   \n",
       "4     -6.196270                                    French, Western   \n",
       "...         ...                                                ...   \n",
       "9546  30.362686                   Chinese, North Indian, Fast Food   \n",
       "9547  26.472001                       Indian, Chinese, Continental   \n",
       "9548  26.474986  Cafe, Continental, Desserts, Ice Cream, Italia...   \n",
       "9549   0.000000                                        Street Food   \n",
       "9550  25.318345                              Chinese, North Indian   \n",
       "\n",
       "      Average Cost for two                Currency Has Table booking  \\\n",
       "0                   800000  Indonesian Rupiah(IDR)                No   \n",
       "1                   800000  Indonesian Rupiah(IDR)                No   \n",
       "2                   500000  Indonesian Rupiah(IDR)                No   \n",
       "3                   450000  Indonesian Rupiah(IDR)                No   \n",
       "4                   350000  Indonesian Rupiah(IDR)                No   \n",
       "...                    ...                     ...               ...   \n",
       "9546                     0      Indian Rupees(Rs.)                No   \n",
       "9547                     0      Indian Rupees(Rs.)                No   \n",
       "9548                     0      Indian Rupees(Rs.)                No   \n",
       "9549                     0      Indian Rupees(Rs.)                No   \n",
       "9550                     0      Indian Rupees(Rs.)                No   \n",
       "\n",
       "     Has Online delivery  Price range  Aggregate rating Rating text  Votes  \n",
       "0                     No            3               4.1   Very Good   1498  \n",
       "1                     No            3               4.6   Excellent    873  \n",
       "2                     No            3               4.9   Excellent    605  \n",
       "3                     No            3               4.2   Very Good    395  \n",
       "4                     No            3               4.3   Very Good    243  \n",
       "...                  ...          ...               ...         ...    ...  \n",
       "9546                  No            1               4.3   Very Good     63  \n",
       "9547                  No            1               3.6        Good     34  \n",
       "9548                  No            1               3.9        Good    127  \n",
       "9549                  No            1               3.8        Good     78  \n",
       "9550                  No            1               3.5        Good    109  \n",
       "\n",
       "[9541 rows x 14 columns]"
      ]
     },
     "execution_count": 13,
     "metadata": {},
     "output_type": "execute_result"
    }
   ],
   "source": [
    "df1\n"
   ]
  },
  {
   "cell_type": "code",
   "execution_count": 14,
   "metadata": {},
   "outputs": [
    {
     "data": {
      "text/html": [
       "<div>\n",
       "<style scoped>\n",
       "    .dataframe tbody tr th:only-of-type {\n",
       "        vertical-align: middle;\n",
       "    }\n",
       "\n",
       "    .dataframe tbody tr th {\n",
       "        vertical-align: top;\n",
       "    }\n",
       "\n",
       "    .dataframe thead th {\n",
       "        text-align: right;\n",
       "    }\n",
       "</style>\n",
       "<table border=\"1\" class=\"dataframe\">\n",
       "  <thead>\n",
       "    <tr style=\"text-align: right;\">\n",
       "      <th></th>\n",
       "      <th>Country Code</th>\n",
       "      <th>Country</th>\n",
       "    </tr>\n",
       "  </thead>\n",
       "  <tbody>\n",
       "    <tr>\n",
       "      <th>0</th>\n",
       "      <td>1</td>\n",
       "      <td>India</td>\n",
       "    </tr>\n",
       "    <tr>\n",
       "      <th>1</th>\n",
       "      <td>14</td>\n",
       "      <td>Australia</td>\n",
       "    </tr>\n",
       "    <tr>\n",
       "      <th>2</th>\n",
       "      <td>30</td>\n",
       "      <td>Brazil</td>\n",
       "    </tr>\n",
       "    <tr>\n",
       "      <th>3</th>\n",
       "      <td>37</td>\n",
       "      <td>Canada</td>\n",
       "    </tr>\n",
       "    <tr>\n",
       "      <th>4</th>\n",
       "      <td>94</td>\n",
       "      <td>Indonesia</td>\n",
       "    </tr>\n",
       "    <tr>\n",
       "      <th>5</th>\n",
       "      <td>148</td>\n",
       "      <td>New Zealand</td>\n",
       "    </tr>\n",
       "    <tr>\n",
       "      <th>6</th>\n",
       "      <td>162</td>\n",
       "      <td>Phillipines</td>\n",
       "    </tr>\n",
       "    <tr>\n",
       "      <th>7</th>\n",
       "      <td>166</td>\n",
       "      <td>Qatar</td>\n",
       "    </tr>\n",
       "    <tr>\n",
       "      <th>8</th>\n",
       "      <td>184</td>\n",
       "      <td>Singapore</td>\n",
       "    </tr>\n",
       "    <tr>\n",
       "      <th>9</th>\n",
       "      <td>189</td>\n",
       "      <td>South Africa</td>\n",
       "    </tr>\n",
       "    <tr>\n",
       "      <th>10</th>\n",
       "      <td>191</td>\n",
       "      <td>Sri Lanka</td>\n",
       "    </tr>\n",
       "    <tr>\n",
       "      <th>11</th>\n",
       "      <td>208</td>\n",
       "      <td>Turkey</td>\n",
       "    </tr>\n",
       "    <tr>\n",
       "      <th>12</th>\n",
       "      <td>214</td>\n",
       "      <td>UAE</td>\n",
       "    </tr>\n",
       "    <tr>\n",
       "      <th>13</th>\n",
       "      <td>215</td>\n",
       "      <td>United Kingdom</td>\n",
       "    </tr>\n",
       "    <tr>\n",
       "      <th>14</th>\n",
       "      <td>216</td>\n",
       "      <td>United States</td>\n",
       "    </tr>\n",
       "  </tbody>\n",
       "</table>\n",
       "</div>"
      ],
      "text/plain": [
       "    Country Code         Country\n",
       "0              1           India\n",
       "1             14       Australia\n",
       "2             30          Brazil\n",
       "3             37          Canada\n",
       "4             94       Indonesia\n",
       "5            148     New Zealand\n",
       "6            162     Phillipines\n",
       "7            166           Qatar\n",
       "8            184       Singapore\n",
       "9            189    South Africa\n",
       "10           191       Sri Lanka\n",
       "11           208          Turkey\n",
       "12           214             UAE\n",
       "13           215  United Kingdom\n",
       "14           216   United States"
      ]
     },
     "execution_count": 14,
     "metadata": {},
     "output_type": "execute_result"
    }
   ],
   "source": [
    "country_code= pd.read_excel(\"C:/Users/Selam/Desktop/smiplilearn/capstone video/project1/1585743394_datasets_marketing/Country-Code.xlsx\")\n",
    "country_code\n",
    "\n"
   ]
  },
  {
   "cell_type": "code",
   "execution_count": 16,
   "metadata": {
    "scrolled": true
   },
   "outputs": [
    {
     "data": {
      "text/html": [
       "<div>\n",
       "<style scoped>\n",
       "    .dataframe tbody tr th:only-of-type {\n",
       "        vertical-align: middle;\n",
       "    }\n",
       "\n",
       "    .dataframe tbody tr th {\n",
       "        vertical-align: top;\n",
       "    }\n",
       "\n",
       "    .dataframe thead th {\n",
       "        text-align: right;\n",
       "    }\n",
       "</style>\n",
       "<table border=\"1\" class=\"dataframe\">\n",
       "  <thead>\n",
       "    <tr style=\"text-align: right;\">\n",
       "      <th></th>\n",
       "      <th>Restaurant Name</th>\n",
       "      <th>Country Code</th>\n",
       "      <th>City</th>\n",
       "      <th>Longitude</th>\n",
       "      <th>Latitude</th>\n",
       "      <th>Cuisines</th>\n",
       "      <th>Average Cost for two</th>\n",
       "      <th>Currency</th>\n",
       "      <th>Has Table booking</th>\n",
       "      <th>Has Online delivery</th>\n",
       "      <th>Price range</th>\n",
       "      <th>Aggregate rating</th>\n",
       "      <th>Rating text</th>\n",
       "      <th>Votes</th>\n",
       "      <th>Country</th>\n",
       "    </tr>\n",
       "  </thead>\n",
       "  <tbody>\n",
       "    <tr>\n",
       "      <th>0</th>\n",
       "      <td>Skye</td>\n",
       "      <td>94</td>\n",
       "      <td>Jakarta</td>\n",
       "      <td>106.821999</td>\n",
       "      <td>-6.196778</td>\n",
       "      <td>Italian, Continental</td>\n",
       "      <td>800000</td>\n",
       "      <td>Indonesian Rupiah(IDR)</td>\n",
       "      <td>No</td>\n",
       "      <td>No</td>\n",
       "      <td>3</td>\n",
       "      <td>4.1</td>\n",
       "      <td>Very Good</td>\n",
       "      <td>1498</td>\n",
       "      <td>Indonesia</td>\n",
       "    </tr>\n",
       "    <tr>\n",
       "      <th>1</th>\n",
       "      <td>Satoo - Hotel Shangri-La</td>\n",
       "      <td>94</td>\n",
       "      <td>Jakarta</td>\n",
       "      <td>106.818961</td>\n",
       "      <td>-6.203292</td>\n",
       "      <td>Asian, Indonesian, Western</td>\n",
       "      <td>800000</td>\n",
       "      <td>Indonesian Rupiah(IDR)</td>\n",
       "      <td>No</td>\n",
       "      <td>No</td>\n",
       "      <td>3</td>\n",
       "      <td>4.6</td>\n",
       "      <td>Excellent</td>\n",
       "      <td>873</td>\n",
       "      <td>Indonesia</td>\n",
       "    </tr>\n",
       "    <tr>\n",
       "      <th>2</th>\n",
       "      <td>Sushi Masa</td>\n",
       "      <td>94</td>\n",
       "      <td>Jakarta</td>\n",
       "      <td>106.800144</td>\n",
       "      <td>-6.101298</td>\n",
       "      <td>Sushi, Japanese</td>\n",
       "      <td>500000</td>\n",
       "      <td>Indonesian Rupiah(IDR)</td>\n",
       "      <td>No</td>\n",
       "      <td>No</td>\n",
       "      <td>3</td>\n",
       "      <td>4.9</td>\n",
       "      <td>Excellent</td>\n",
       "      <td>605</td>\n",
       "      <td>Indonesia</td>\n",
       "    </tr>\n",
       "    <tr>\n",
       "      <th>3</th>\n",
       "      <td>3 Wise Monkeys</td>\n",
       "      <td>94</td>\n",
       "      <td>Jakarta</td>\n",
       "      <td>106.813400</td>\n",
       "      <td>-6.235241</td>\n",
       "      <td>Japanese</td>\n",
       "      <td>450000</td>\n",
       "      <td>Indonesian Rupiah(IDR)</td>\n",
       "      <td>No</td>\n",
       "      <td>No</td>\n",
       "      <td>3</td>\n",
       "      <td>4.2</td>\n",
       "      <td>Very Good</td>\n",
       "      <td>395</td>\n",
       "      <td>Indonesia</td>\n",
       "    </tr>\n",
       "    <tr>\n",
       "      <th>4</th>\n",
       "      <td>Avec Moi Restaurant and Bar</td>\n",
       "      <td>94</td>\n",
       "      <td>Jakarta</td>\n",
       "      <td>106.821023</td>\n",
       "      <td>-6.196270</td>\n",
       "      <td>French, Western</td>\n",
       "      <td>350000</td>\n",
       "      <td>Indonesian Rupiah(IDR)</td>\n",
       "      <td>No</td>\n",
       "      <td>No</td>\n",
       "      <td>3</td>\n",
       "      <td>4.3</td>\n",
       "      <td>Very Good</td>\n",
       "      <td>243</td>\n",
       "      <td>Indonesia</td>\n",
       "    </tr>\n",
       "    <tr>\n",
       "      <th>...</th>\n",
       "      <td>...</td>\n",
       "      <td>...</td>\n",
       "      <td>...</td>\n",
       "      <td>...</td>\n",
       "      <td>...</td>\n",
       "      <td>...</td>\n",
       "      <td>...</td>\n",
       "      <td>...</td>\n",
       "      <td>...</td>\n",
       "      <td>...</td>\n",
       "      <td>...</td>\n",
       "      <td>...</td>\n",
       "      <td>...</td>\n",
       "      <td>...</td>\n",
       "      <td>...</td>\n",
       "    </tr>\n",
       "    <tr>\n",
       "      <th>9536</th>\n",
       "      <td>Senor Iguanas</td>\n",
       "      <td>216</td>\n",
       "      <td>Pocatello</td>\n",
       "      <td>-112.443300</td>\n",
       "      <td>42.894200</td>\n",
       "      <td>Mexican</td>\n",
       "      <td>0</td>\n",
       "      <td>Dollar($)</td>\n",
       "      <td>No</td>\n",
       "      <td>No</td>\n",
       "      <td>1</td>\n",
       "      <td>3.6</td>\n",
       "      <td>Good</td>\n",
       "      <td>108</td>\n",
       "      <td>United States</td>\n",
       "    </tr>\n",
       "    <tr>\n",
       "      <th>9537</th>\n",
       "      <td>Lake House Restaurant</td>\n",
       "      <td>37</td>\n",
       "      <td>Vineland Station</td>\n",
       "      <td>-79.379147</td>\n",
       "      <td>43.186870</td>\n",
       "      <td>Italian, Mediterranean, Pizza</td>\n",
       "      <td>70</td>\n",
       "      <td>Dollar($)</td>\n",
       "      <td>No</td>\n",
       "      <td>No</td>\n",
       "      <td>4</td>\n",
       "      <td>4.3</td>\n",
       "      <td>Very Good</td>\n",
       "      <td>204</td>\n",
       "      <td>Canada</td>\n",
       "    </tr>\n",
       "    <tr>\n",
       "      <th>9538</th>\n",
       "      <td>Tokyo Sushi</td>\n",
       "      <td>37</td>\n",
       "      <td>Chatham-Kent</td>\n",
       "      <td>-82.188438</td>\n",
       "      <td>42.397683</td>\n",
       "      <td>Japanese, Sushi</td>\n",
       "      <td>25</td>\n",
       "      <td>Dollar($)</td>\n",
       "      <td>No</td>\n",
       "      <td>No</td>\n",
       "      <td>2</td>\n",
       "      <td>3.7</td>\n",
       "      <td>Good</td>\n",
       "      <td>176</td>\n",
       "      <td>Canada</td>\n",
       "    </tr>\n",
       "    <tr>\n",
       "      <th>9539</th>\n",
       "      <td>Consort Restaurant</td>\n",
       "      <td>37</td>\n",
       "      <td>Consort</td>\n",
       "      <td>-110.774699</td>\n",
       "      <td>52.008289</td>\n",
       "      <td>Chinese, Canadian</td>\n",
       "      <td>25</td>\n",
       "      <td>Dollar($)</td>\n",
       "      <td>No</td>\n",
       "      <td>No</td>\n",
       "      <td>2</td>\n",
       "      <td>3.0</td>\n",
       "      <td>Average</td>\n",
       "      <td>6</td>\n",
       "      <td>Canada</td>\n",
       "    </tr>\n",
       "    <tr>\n",
       "      <th>9540</th>\n",
       "      <td>Arigato Sushi</td>\n",
       "      <td>37</td>\n",
       "      <td>Yorkton</td>\n",
       "      <td>-102.461317</td>\n",
       "      <td>51.210682</td>\n",
       "      <td>Asian</td>\n",
       "      <td>25</td>\n",
       "      <td>Dollar($)</td>\n",
       "      <td>No</td>\n",
       "      <td>No</td>\n",
       "      <td>2</td>\n",
       "      <td>3.3</td>\n",
       "      <td>Average</td>\n",
       "      <td>26</td>\n",
       "      <td>Canada</td>\n",
       "    </tr>\n",
       "  </tbody>\n",
       "</table>\n",
       "<p>9541 rows × 15 columns</p>\n",
       "</div>"
      ],
      "text/plain": [
       "                  Restaurant Name  Country Code              City   Longitude  \\\n",
       "0                            Skye            94           Jakarta  106.821999   \n",
       "1        Satoo - Hotel Shangri-La            94           Jakarta  106.818961   \n",
       "2                      Sushi Masa            94           Jakarta  106.800144   \n",
       "3                  3 Wise Monkeys            94           Jakarta  106.813400   \n",
       "4     Avec Moi Restaurant and Bar            94           Jakarta  106.821023   \n",
       "...                           ...           ...               ...         ...   \n",
       "9536                Senor Iguanas           216         Pocatello -112.443300   \n",
       "9537        Lake House Restaurant            37  Vineland Station  -79.379147   \n",
       "9538                  Tokyo Sushi            37      Chatham-Kent  -82.188438   \n",
       "9539           Consort Restaurant            37           Consort -110.774699   \n",
       "9540                Arigato Sushi            37           Yorkton -102.461317   \n",
       "\n",
       "       Latitude                       Cuisines  Average Cost for two  \\\n",
       "0     -6.196778           Italian, Continental                800000   \n",
       "1     -6.203292     Asian, Indonesian, Western                800000   \n",
       "2     -6.101298                Sushi, Japanese                500000   \n",
       "3     -6.235241                       Japanese                450000   \n",
       "4     -6.196270                French, Western                350000   \n",
       "...         ...                            ...                   ...   \n",
       "9536  42.894200                        Mexican                     0   \n",
       "9537  43.186870  Italian, Mediterranean, Pizza                    70   \n",
       "9538  42.397683                Japanese, Sushi                    25   \n",
       "9539  52.008289              Chinese, Canadian                    25   \n",
       "9540  51.210682                          Asian                    25   \n",
       "\n",
       "                    Currency Has Table booking Has Online delivery  \\\n",
       "0     Indonesian Rupiah(IDR)                No                  No   \n",
       "1     Indonesian Rupiah(IDR)                No                  No   \n",
       "2     Indonesian Rupiah(IDR)                No                  No   \n",
       "3     Indonesian Rupiah(IDR)                No                  No   \n",
       "4     Indonesian Rupiah(IDR)                No                  No   \n",
       "...                      ...               ...                 ...   \n",
       "9536               Dollar($)                No                  No   \n",
       "9537               Dollar($)                No                  No   \n",
       "9538               Dollar($)                No                  No   \n",
       "9539               Dollar($)                No                  No   \n",
       "9540               Dollar($)                No                  No   \n",
       "\n",
       "      Price range  Aggregate rating Rating text  Votes        Country  \n",
       "0               3               4.1   Very Good   1498      Indonesia  \n",
       "1               3               4.6   Excellent    873      Indonesia  \n",
       "2               3               4.9   Excellent    605      Indonesia  \n",
       "3               3               4.2   Very Good    395      Indonesia  \n",
       "4               3               4.3   Very Good    243      Indonesia  \n",
       "...           ...               ...         ...    ...            ...  \n",
       "9536            1               3.6        Good    108  United States  \n",
       "9537            4               4.3   Very Good    204         Canada  \n",
       "9538            2               3.7        Good    176         Canada  \n",
       "9539            2               3.0     Average      6         Canada  \n",
       "9540            2               3.3     Average     26         Canada  \n",
       "\n",
       "[9541 rows x 15 columns]"
      ]
     },
     "execution_count": 16,
     "metadata": {},
     "output_type": "execute_result"
    }
   ],
   "source": [
    "#merging the two datasets\n",
    "df2= pd.merge(df1,country_code, on= \"Country Code\")\n",
    "df2\n"
   ]
  },
  {
   "cell_type": "markdown",
   "metadata": {},
   "source": [
    "#  Explore the geographical distribution of the restaurants "
   ]
  },
  {
   "cell_type": "markdown",
   "metadata": {},
   "source": [
    "- 90% of the resturants are in India"
   ]
  },
  {
   "cell_type": "code",
   "execution_count": 17,
   "metadata": {},
   "outputs": [
    {
     "data": {
      "text/html": [
       "<div>\n",
       "<style scoped>\n",
       "    .dataframe tbody tr th:only-of-type {\n",
       "        vertical-align: middle;\n",
       "    }\n",
       "\n",
       "    .dataframe tbody tr th {\n",
       "        vertical-align: top;\n",
       "    }\n",
       "\n",
       "    .dataframe thead th {\n",
       "        text-align: right;\n",
       "    }\n",
       "</style>\n",
       "<table border=\"1\" class=\"dataframe\">\n",
       "  <thead>\n",
       "    <tr style=\"text-align: right;\">\n",
       "      <th></th>\n",
       "      <th>Country</th>\n",
       "      <th>City</th>\n",
       "    </tr>\n",
       "  </thead>\n",
       "  <tbody>\n",
       "    <tr>\n",
       "      <th>3</th>\n",
       "      <td>India</td>\n",
       "      <td>8651</td>\n",
       "    </tr>\n",
       "    <tr>\n",
       "      <th>14</th>\n",
       "      <td>United States</td>\n",
       "      <td>425</td>\n",
       "    </tr>\n",
       "    <tr>\n",
       "      <th>13</th>\n",
       "      <td>United Kingdom</td>\n",
       "      <td>80</td>\n",
       "    </tr>\n",
       "    <tr>\n",
       "      <th>1</th>\n",
       "      <td>Brazil</td>\n",
       "      <td>60</td>\n",
       "    </tr>\n",
       "    <tr>\n",
       "      <th>9</th>\n",
       "      <td>South Africa</td>\n",
       "      <td>60</td>\n",
       "    </tr>\n",
       "    <tr>\n",
       "      <th>12</th>\n",
       "      <td>UAE</td>\n",
       "      <td>60</td>\n",
       "    </tr>\n",
       "    <tr>\n",
       "      <th>5</th>\n",
       "      <td>New Zealand</td>\n",
       "      <td>40</td>\n",
       "    </tr>\n",
       "    <tr>\n",
       "      <th>11</th>\n",
       "      <td>Turkey</td>\n",
       "      <td>34</td>\n",
       "    </tr>\n",
       "    <tr>\n",
       "      <th>0</th>\n",
       "      <td>Australia</td>\n",
       "      <td>24</td>\n",
       "    </tr>\n",
       "    <tr>\n",
       "      <th>6</th>\n",
       "      <td>Phillipines</td>\n",
       "      <td>22</td>\n",
       "    </tr>\n",
       "    <tr>\n",
       "      <th>4</th>\n",
       "      <td>Indonesia</td>\n",
       "      <td>21</td>\n",
       "    </tr>\n",
       "    <tr>\n",
       "      <th>7</th>\n",
       "      <td>Qatar</td>\n",
       "      <td>20</td>\n",
       "    </tr>\n",
       "    <tr>\n",
       "      <th>8</th>\n",
       "      <td>Singapore</td>\n",
       "      <td>20</td>\n",
       "    </tr>\n",
       "    <tr>\n",
       "      <th>10</th>\n",
       "      <td>Sri Lanka</td>\n",
       "      <td>20</td>\n",
       "    </tr>\n",
       "    <tr>\n",
       "      <th>2</th>\n",
       "      <td>Canada</td>\n",
       "      <td>4</td>\n",
       "    </tr>\n",
       "  </tbody>\n",
       "</table>\n",
       "</div>"
      ],
      "text/plain": [
       "           Country  City\n",
       "3            India  8651\n",
       "14   United States   425\n",
       "13  United Kingdom    80\n",
       "1           Brazil    60\n",
       "9     South Africa    60\n",
       "12             UAE    60\n",
       "5      New Zealand    40\n",
       "11          Turkey    34\n",
       "0        Australia    24\n",
       "6      Phillipines    22\n",
       "4        Indonesia    21\n",
       "7            Qatar    20\n",
       "8        Singapore    20\n",
       "10       Sri Lanka    20\n",
       "2           Canada     4"
      ]
     },
     "execution_count": 17,
     "metadata": {},
     "output_type": "execute_result"
    }
   ],
   "source": [
    "#Explore the geographical distribution of the restaurants using groupby country vs City\n",
    "country_c= df2[['Country','City']]\n",
    "grouped_country= country_c.groupby('Country',as_index=False).count()\n",
    "grouped_country_sorted=grouped_country.sort_values(by=\"City\", ascending=False)\n",
    "grouped_country_sorted"
   ]
  },
  {
   "cell_type": "code",
   "execution_count": 18,
   "metadata": {},
   "outputs": [
    {
     "data": {
      "text/plain": [
       "<BarContainer object of 15 artists>"
      ]
     },
     "execution_count": 18,
     "metadata": {},
     "output_type": "execute_result"
    },
    {
     "data": {
      "image/png": "[encoded data removed]",
      "text/plain": [
       "<Figure size 1080x720 with 1 Axes>"
      ]
     },
     "metadata": {
      "needs_background": "light"
     },
     "output_type": "display_data"
    }
   ],
   "source": [
    "#Explore the geographical distribution of the restaurants using vistualization by country\n",
    "\n",
    "#plt.bar(x =df2[\"Country\"],height= grouped_country['City'])\n",
    "\n",
    "grouped_country= country_c.groupby('Country',as_index=False).count()\n",
    "grouped_country_sorted=grouped_country.sort_values(by=\"City\", ascending=False)\n",
    "grouped_country_sorted\n",
    "plt.figure(figsize= [15,10])\n",
    "plt.xticks(rotation='vertical')\n",
    "\n",
    "plt.bar(x =grouped_country_sorted['Country'],height= grouped_country_sorted['City'])"
   ]
  },
  {
   "cell_type": "code",
   "execution_count": 19,
   "metadata": {},
   "outputs": [
    {
     "data": {
      "text/plain": [
       "(array([7783.,  494.,  264.,  195.,  197.,  232.,  239.,  108.,   15.,\n",
       "          14.]),\n",
       " array([  0. ,  13.9,  27.8,  41.7,  55.6,  69.5,  83.4,  97.3, 111.2,\n",
       "        125.1, 139. ]),\n",
       " <BarContainer object of 10 artists>)"
      ]
     },
     "execution_count": 19,
     "metadata": {},
     "output_type": "execute_result"
    },
    {
     "data": {
      "image/png": "[encoded data removed]",
      "text/plain": [
       "<Figure size 2160x864 with 1 Axes>"
      ]
     },
     "metadata": {
      "needs_background": "light"
     },
     "output_type": "display_data"
    }
   ],
   "source": [
    "#Another way of Explore the geographical distribution of the restaurants using visualization by city\n",
    "\n",
    "plt.figure(figsize= [30,12])\n",
    "plt.xticks(rotation='vertical')\n",
    "plt.hist(df1[\"City\"])"
   ]
  },
  {
   "cell_type": "markdown",
   "metadata": {},
   "source": [
    "# identify the cities with the maximum and minimum number of restaurants "
   ]
  },
  {
   "cell_type": "markdown",
   "metadata": {},
   "source": [
    "- New delhi, Gurgaon and Noida are the three top cities in number of resturants. Around 45 cities have minimum number of restaurants (they have one resturant each). "
   ]
  },
  {
   "cell_type": "code",
   "execution_count": 20,
   "metadata": {},
   "outputs": [
    {
     "data": {
      "text/html": [
       "<div>\n",
       "<style scoped>\n",
       "    .dataframe tbody tr th:only-of-type {\n",
       "        vertical-align: middle;\n",
       "    }\n",
       "\n",
       "    .dataframe tbody tr th {\n",
       "        vertical-align: top;\n",
       "    }\n",
       "\n",
       "    .dataframe thead th {\n",
       "        text-align: right;\n",
       "    }\n",
       "</style>\n",
       "<table border=\"1\" class=\"dataframe\">\n",
       "  <thead>\n",
       "    <tr style=\"text-align: right;\">\n",
       "      <th></th>\n",
       "      <th>City</th>\n",
       "      <th>Restaurant Name</th>\n",
       "    </tr>\n",
       "  </thead>\n",
       "  <tbody>\n",
       "    <tr>\n",
       "      <th>87</th>\n",
       "      <td>New Delhi</td>\n",
       "      <td>5473</td>\n",
       "    </tr>\n",
       "    <tr>\n",
       "      <th>50</th>\n",
       "      <td>Gurgaon</td>\n",
       "      <td>1118</td>\n",
       "    </tr>\n",
       "    <tr>\n",
       "      <th>88</th>\n",
       "      <td>Noida</td>\n",
       "      <td>1080</td>\n",
       "    </tr>\n",
       "    <tr>\n",
       "      <th>43</th>\n",
       "      <td>Faridabad</td>\n",
       "      <td>251</td>\n",
       "    </tr>\n",
       "    <tr>\n",
       "      <th>48</th>\n",
       "      <td>Ghaziabad</td>\n",
       "      <td>25</td>\n",
       "    </tr>\n",
       "    <tr>\n",
       "      <th>...</th>\n",
       "      <td>...</td>\n",
       "      <td>...</td>\n",
       "    </tr>\n",
       "    <tr>\n",
       "      <th>97</th>\n",
       "      <td>Penola</td>\n",
       "      <td>1</td>\n",
       "    </tr>\n",
       "    <tr>\n",
       "      <th>99</th>\n",
       "      <td>Phillip Island</td>\n",
       "      <td>1</td>\n",
       "    </tr>\n",
       "    <tr>\n",
       "      <th>101</th>\n",
       "      <td>Potrero</td>\n",
       "      <td>1</td>\n",
       "    </tr>\n",
       "    <tr>\n",
       "      <th>103</th>\n",
       "      <td>Princeton</td>\n",
       "      <td>1</td>\n",
       "    </tr>\n",
       "    <tr>\n",
       "      <th>92</th>\n",
       "      <td>Panchkula</td>\n",
       "      <td>1</td>\n",
       "    </tr>\n",
       "  </tbody>\n",
       "</table>\n",
       "<p>140 rows × 2 columns</p>\n",
       "</div>"
      ],
      "text/plain": [
       "               City  Restaurant Name\n",
       "87        New Delhi             5473\n",
       "50          Gurgaon             1118\n",
       "88            Noida             1080\n",
       "43        Faridabad              251\n",
       "48        Ghaziabad               25\n",
       "..              ...              ...\n",
       "97           Penola                1\n",
       "99   Phillip Island                1\n",
       "101         Potrero                1\n",
       "103       Princeton                1\n",
       "92        Panchkula                1\n",
       "\n",
       "[140 rows x 2 columns]"
      ]
     },
     "execution_count": 20,
     "metadata": {},
     "output_type": "execute_result"
    }
   ],
   "source": [
    "# identifying the cities with the maximum and minimum number of restaurants using groupby\n",
    "\n",
    "city_Res= df2[['City','Restaurant Name']]\n",
    "grouped_city_Res = city_Res.groupby(\"City\", as_index = False).count()\n",
    "Max_restaurant= grouped_city_Res.sort_values(by='Restaurant Name', ascending=False)\n",
    "min_restaurant= grouped_city_Res[grouped_city_Res['Restaurant Name'] == 1]\n",
    "min_restaurant\n",
    "Max_restaurant\n"
   ]
  },
  {
   "cell_type": "code",
   "execution_count": 21,
   "metadata": {},
   "outputs": [],
   "source": [
    "# Another way of identify the cities with the maximum and minimum number of restaurants using count\n",
    "city= df2[\"City\"]\n",
    "city_count=city.value_counts()\n",
    "#city.value_counts().min()\n",
    "#city.value_counts().max()\n"
   ]
  },
  {
   "cell_type": "markdown",
   "metadata": {},
   "source": [
    "# Restaurant  franchise with most national presence"
   ]
  },
  {
   "cell_type": "markdown",
   "metadata": {},
   "source": [
    "- Cafe Coffee day, Domino's pizza and Subway the three top Restaurants that have most national presence."
   ]
  },
  {
   "cell_type": "code",
   "execution_count": 22,
   "metadata": {},
   "outputs": [
    {
     "data": {
      "text/html": [
       "<div>\n",
       "<style scoped>\n",
       "    .dataframe tbody tr th:only-of-type {\n",
       "        vertical-align: middle;\n",
       "    }\n",
       "\n",
       "    .dataframe tbody tr th {\n",
       "        vertical-align: top;\n",
       "    }\n",
       "\n",
       "    .dataframe thead th {\n",
       "        text-align: right;\n",
       "    }\n",
       "</style>\n",
       "<table border=\"1\" class=\"dataframe\">\n",
       "  <thead>\n",
       "    <tr style=\"text-align: right;\">\n",
       "      <th></th>\n",
       "      <th>Country</th>\n",
       "    </tr>\n",
       "    <tr>\n",
       "      <th>Restaurant Name</th>\n",
       "      <th></th>\n",
       "    </tr>\n",
       "  </thead>\n",
       "  <tbody>\n",
       "    <tr>\n",
       "      <th>Cafe Coffee Day</th>\n",
       "      <td>83</td>\n",
       "    </tr>\n",
       "    <tr>\n",
       "      <th>Domino's Pizza</th>\n",
       "      <td>79</td>\n",
       "    </tr>\n",
       "    <tr>\n",
       "      <th>Subway</th>\n",
       "      <td>63</td>\n",
       "    </tr>\n",
       "    <tr>\n",
       "      <th>Green Chick Chop</th>\n",
       "      <td>51</td>\n",
       "    </tr>\n",
       "    <tr>\n",
       "      <th>McDonald's</th>\n",
       "      <td>48</td>\n",
       "    </tr>\n",
       "    <tr>\n",
       "      <th>...</th>\n",
       "      <td>...</td>\n",
       "    </tr>\n",
       "    <tr>\n",
       "      <th>Ghar Ki Handi</th>\n",
       "      <td>1</td>\n",
       "    </tr>\n",
       "    <tr>\n",
       "      <th>Ghar Ka Swad</th>\n",
       "      <td>1</td>\n",
       "    </tr>\n",
       "    <tr>\n",
       "      <th>Ghar Bistro Cafe</th>\n",
       "      <td>1</td>\n",
       "    </tr>\n",
       "    <tr>\n",
       "      <th>Ghalib Kabab Corner</th>\n",
       "      <td>1</td>\n",
       "    </tr>\n",
       "    <tr>\n",
       "      <th>Ìàukura€Ùa Sofras€±</th>\n",
       "      <td>1</td>\n",
       "    </tr>\n",
       "  </tbody>\n",
       "</table>\n",
       "<p>7436 rows × 1 columns</p>\n",
       "</div>"
      ],
      "text/plain": [
       "                     Country\n",
       "Restaurant Name             \n",
       "Cafe Coffee Day           83\n",
       "Domino's Pizza            79\n",
       "Subway                    63\n",
       "Green Chick Chop          51\n",
       "McDonald's                48\n",
       "...                      ...\n",
       "Ghar Ki Handi              1\n",
       "Ghar Ka Swad               1\n",
       "Ghar Bistro Cafe           1\n",
       "Ghalib Kabab Corner        1\n",
       "Ìàukura€Ùa Sofras€±        1\n",
       "\n",
       "[7436 rows x 1 columns]"
      ]
     },
     "execution_count": 22,
     "metadata": {},
     "output_type": "execute_result"
    }
   ],
   "source": [
    "#Restaurant franchising is a thriving venture. So, it is very important to explore the franchise with most national presence\n",
    "\n",
    "\n",
    "country_c= df2[['Country','Restaurant Name']]\n",
    "grouped_country= country_c.groupby('Restaurant Name').count()\n",
    "grouped_country_sorted= grouped_country.sort_values(by='Country', ascending=False)\n",
    "grouped_country_sorted\n"
   ]
  },
  {
   "cell_type": "markdown",
   "metadata": {},
   "source": [
    "# Find out the ratio between restaurants that allow table booking vs. those that do not allow table booking"
   ]
  },
  {
   "cell_type": "markdown",
   "metadata": {},
   "source": [
    "- 12% of the restaurants provide table booking "
   ]
  },
  {
   "cell_type": "code",
   "execution_count": 23,
   "metadata": {},
   "outputs": [
    {
     "data": {
      "text/html": [
       "<div>\n",
       "<style scoped>\n",
       "    .dataframe tbody tr th:only-of-type {\n",
       "        vertical-align: middle;\n",
       "    }\n",
       "\n",
       "    .dataframe tbody tr th {\n",
       "        vertical-align: top;\n",
       "    }\n",
       "\n",
       "    .dataframe thead th {\n",
       "        text-align: right;\n",
       "    }\n",
       "</style>\n",
       "<table border=\"1\" class=\"dataframe\">\n",
       "  <thead>\n",
       "    <tr style=\"text-align: right;\">\n",
       "      <th></th>\n",
       "      <th>Restaurant Name</th>\n",
       "    </tr>\n",
       "    <tr>\n",
       "      <th>Has Table booking</th>\n",
       "      <th></th>\n",
       "    </tr>\n",
       "  </thead>\n",
       "  <tbody>\n",
       "    <tr>\n",
       "      <th>No</th>\n",
       "      <td>87.86%</td>\n",
       "    </tr>\n",
       "    <tr>\n",
       "      <th>Yes</th>\n",
       "      <td>12.14%</td>\n",
       "    </tr>\n",
       "  </tbody>\n",
       "</table>\n",
       "</div>"
      ],
      "text/plain": [
       "                  Restaurant Name\n",
       "Has Table booking                \n",
       "No                         87.86%\n",
       "Yes                        12.14%"
      ]
     },
     "execution_count": 23,
     "metadata": {},
     "output_type": "execute_result"
    }
   ],
   "source": [
    "\n",
    "c=df2[['Has Table booking','Restaurant Name']]\n",
    "d= c.groupby('Has Table booking').count()\n",
    "d= (d/d[\"Restaurant Name\"].sum())\n",
    "d[\"Restaurant Name\"]= pd.Series([\"{0:.2f}%\".format(val*100) for val in d[\"Restaurant Name\"]], index = d.index)\n",
    "d"
   ]
  },
  {
   "cell_type": "markdown",
   "metadata": {},
   "source": [
    "# Find out the percentage of restaurants providing online delivery\n"
   ]
  },
  {
   "cell_type": "markdown",
   "metadata": {},
   "source": [
    "-25% of the restaurants provide online delivery"
   ]
  },
  {
   "cell_type": "code",
   "execution_count": 24,
   "metadata": {},
   "outputs": [
    {
     "data": {
      "text/html": [
       "<div>\n",
       "<style scoped>\n",
       "    .dataframe tbody tr th:only-of-type {\n",
       "        vertical-align: middle;\n",
       "    }\n",
       "\n",
       "    .dataframe tbody tr th {\n",
       "        vertical-align: top;\n",
       "    }\n",
       "\n",
       "    .dataframe thead th {\n",
       "        text-align: right;\n",
       "    }\n",
       "</style>\n",
       "<table border=\"1\" class=\"dataframe\">\n",
       "  <thead>\n",
       "    <tr style=\"text-align: right;\">\n",
       "      <th></th>\n",
       "      <th>Restaurant Name</th>\n",
       "    </tr>\n",
       "    <tr>\n",
       "      <th>Has Online delivery</th>\n",
       "      <th></th>\n",
       "    </tr>\n",
       "  </thead>\n",
       "  <tbody>\n",
       "    <tr>\n",
       "      <th>No</th>\n",
       "      <td>74.31%</td>\n",
       "    </tr>\n",
       "    <tr>\n",
       "      <th>Yes</th>\n",
       "      <td>25.69%</td>\n",
       "    </tr>\n",
       "  </tbody>\n",
       "</table>\n",
       "</div>"
      ],
      "text/plain": [
       "                    Restaurant Name\n",
       "Has Online delivery                \n",
       "No                           74.31%\n",
       "Yes                          25.69%"
      ]
     },
     "execution_count": 24,
     "metadata": {},
     "output_type": "execute_result"
    }
   ],
   "source": [
    "e=df2[['Has Online delivery','Restaurant Name']]\n",
    "f= e.groupby('Has Online delivery').count()\n",
    "f= (f/f[\"Restaurant Name\"].sum())\n",
    "f[\"Restaurant Name\"]= pd.Series([\"{0:.2f}%\".format(val*100) for val in f[\"Restaurant Name\"]], index = f.index)\n",
    "f"
   ]
  },
  {
   "cell_type": "markdown",
   "metadata": {},
   "source": [
    "# Calculate the difference in number of votes for the restaurants that deliver and the restaurants that do not deliver\n"
   ]
  },
  {
   "cell_type": "markdown",
   "metadata": {},
   "source": [
    "-The difference in number of votes is 459322. Even though only 25% of the restaurants have online delivery, they occupay 34.6% \n",
    "of the votes. "
   ]
  },
  {
   "cell_type": "code",
   "execution_count": 25,
   "metadata": {},
   "outputs": [
    {
     "data": {
      "text/html": [
       "<div>\n",
       "<style scoped>\n",
       "    .dataframe tbody tr th:only-of-type {\n",
       "        vertical-align: middle;\n",
       "    }\n",
       "\n",
       "    .dataframe tbody tr th {\n",
       "        vertical-align: top;\n",
       "    }\n",
       "\n",
       "    .dataframe thead th {\n",
       "        text-align: right;\n",
       "    }\n",
       "</style>\n",
       "<table border=\"1\" class=\"dataframe\">\n",
       "  <thead>\n",
       "    <tr style=\"text-align: right;\">\n",
       "      <th></th>\n",
       "      <th>Votes</th>\n",
       "      <th>votes percent</th>\n",
       "    </tr>\n",
       "    <tr>\n",
       "      <th>Has Online delivery</th>\n",
       "      <th></th>\n",
       "      <th></th>\n",
       "    </tr>\n",
       "  </thead>\n",
       "  <tbody>\n",
       "    <tr>\n",
       "      <th>No</th>\n",
       "      <td>977236</td>\n",
       "      <td>65.36%</td>\n",
       "    </tr>\n",
       "    <tr>\n",
       "      <th>Yes</th>\n",
       "      <td>517914</td>\n",
       "      <td>34.64%</td>\n",
       "    </tr>\n",
       "  </tbody>\n",
       "</table>\n",
       "</div>"
      ],
      "text/plain": [
       "                      Votes votes percent\n",
       "Has Online delivery                      \n",
       "No                   977236        65.36%\n",
       "Yes                  517914        34.64%"
      ]
     },
     "execution_count": 25,
     "metadata": {},
     "output_type": "execute_result"
    }
   ],
   "source": [
    "#percentage of no and yes votes\n",
    "votes_delivery=df2[['Has Online delivery','Votes']]\n",
    "grouped_votes_delivery= votes_delivery.groupby('Has Online delivery').sum() \n",
    "grouped_votes_delivery1= grouped_votes_delivery.copy()\n",
    "grouped_votes_delivery1['votes percent']= grouped_votes_delivery1['Votes']/sum(grouped_votes_delivery1['Votes'])\n",
    "grouped_votes_delivery1['votes percent']= pd.Series([\"{0:.2f}%\".format(val*100) for val in grouped_votes_delivery1['votes percent']], index = grouped_votes_delivery1.index)\n",
    "grouped_votes_delivery1\n",
    "\n",
    "\n"
   ]
  },
  {
   "cell_type": "code",
   "execution_count": 26,
   "metadata": {},
   "outputs": [
    {
     "data": {
      "text/html": [
       "<div>\n",
       "<style scoped>\n",
       "    .dataframe tbody tr th:only-of-type {\n",
       "        vertical-align: middle;\n",
       "    }\n",
       "\n",
       "    .dataframe tbody tr th {\n",
       "        vertical-align: top;\n",
       "    }\n",
       "\n",
       "    .dataframe thead th {\n",
       "        text-align: right;\n",
       "    }\n",
       "</style>\n",
       "<table border=\"1\" class=\"dataframe\">\n",
       "  <thead>\n",
       "    <tr style=\"text-align: right;\">\n",
       "      <th></th>\n",
       "      <th>Votes</th>\n",
       "    </tr>\n",
       "    <tr>\n",
       "      <th>Has Online delivery</th>\n",
       "      <th></th>\n",
       "    </tr>\n",
       "  </thead>\n",
       "  <tbody>\n",
       "    <tr>\n",
       "      <th>No</th>\n",
       "      <td>977236</td>\n",
       "    </tr>\n",
       "    <tr>\n",
       "      <th>Yes</th>\n",
       "      <td>517914</td>\n",
       "    </tr>\n",
       "    <tr>\n",
       "      <th>Diff</th>\n",
       "      <td>459322</td>\n",
       "    </tr>\n",
       "  </tbody>\n",
       "</table>\n",
       "</div>"
      ],
      "text/plain": [
       "                      Votes\n",
       "Has Online delivery        \n",
       "No                   977236\n",
       "Yes                  517914\n",
       "Diff                 459322"
      ]
     },
     "execution_count": 26,
     "metadata": {},
     "output_type": "execute_result"
    }
   ],
   "source": [
    "# difference in number of votes for the restaurants that deliver and that do not.\n",
    "grouped_votes_delivery.loc['Diff'] = grouped_votes_delivery.loc['No'] - grouped_votes_delivery.loc['Yes']\n",
    "grouped_votes_delivery"
   ]
  },
  {
   "cell_type": "markdown",
   "metadata": {},
   "source": [
    "# What are the top 10 cuisines served across cities?"
   ]
  },
  {
   "cell_type": "markdown",
   "metadata": {},
   "source": [
    "- The top cuisines served across cities are North Indian, (North Indian, Chinese), Chinese, Fast Food, (North Indian, Mughlai),\n",
    "Cafe, Bakery, (North Indian, Mughlai, Chinese), (Bakery, Desserts), Street Food. "
   ]
  },
  {
   "cell_type": "code",
   "execution_count": 27,
   "metadata": {},
   "outputs": [
    {
     "data": {
      "text/html": [
       "<div>\n",
       "<style scoped>\n",
       "    .dataframe tbody tr th:only-of-type {\n",
       "        vertical-align: middle;\n",
       "    }\n",
       "\n",
       "    .dataframe tbody tr th {\n",
       "        vertical-align: top;\n",
       "    }\n",
       "\n",
       "    .dataframe thead th {\n",
       "        text-align: right;\n",
       "    }\n",
       "</style>\n",
       "<table border=\"1\" class=\"dataframe\">\n",
       "  <thead>\n",
       "    <tr style=\"text-align: right;\">\n",
       "      <th></th>\n",
       "      <th>City</th>\n",
       "    </tr>\n",
       "    <tr>\n",
       "      <th>Cuisines</th>\n",
       "      <th></th>\n",
       "    </tr>\n",
       "  </thead>\n",
       "  <tbody>\n",
       "    <tr>\n",
       "      <th>North Indian</th>\n",
       "      <td>936</td>\n",
       "    </tr>\n",
       "    <tr>\n",
       "      <th>North Indian, Chinese</th>\n",
       "      <td>511</td>\n",
       "    </tr>\n",
       "    <tr>\n",
       "      <th>Chinese</th>\n",
       "      <td>354</td>\n",
       "    </tr>\n",
       "    <tr>\n",
       "      <th>Fast Food</th>\n",
       "      <td>354</td>\n",
       "    </tr>\n",
       "    <tr>\n",
       "      <th>North Indian, Mughlai</th>\n",
       "      <td>334</td>\n",
       "    </tr>\n",
       "    <tr>\n",
       "      <th>Cafe</th>\n",
       "      <td>299</td>\n",
       "    </tr>\n",
       "    <tr>\n",
       "      <th>Bakery</th>\n",
       "      <td>218</td>\n",
       "    </tr>\n",
       "    <tr>\n",
       "      <th>North Indian, Mughlai, Chinese</th>\n",
       "      <td>197</td>\n",
       "    </tr>\n",
       "    <tr>\n",
       "      <th>Bakery, Desserts</th>\n",
       "      <td>170</td>\n",
       "    </tr>\n",
       "    <tr>\n",
       "      <th>Street Food</th>\n",
       "      <td>149</td>\n",
       "    </tr>\n",
       "  </tbody>\n",
       "</table>\n",
       "</div>"
      ],
      "text/plain": [
       "                                City\n",
       "Cuisines                            \n",
       "North Indian                     936\n",
       "North Indian, Chinese            511\n",
       "Chinese                          354\n",
       "Fast Food                        354\n",
       "North Indian, Mughlai            334\n",
       "Cafe                             299\n",
       "Bakery                           218\n",
       "North Indian, Mughlai, Chinese   197\n",
       "Bakery, Desserts                 170\n",
       "Street Food                      149"
      ]
     },
     "execution_count": 27,
     "metadata": {},
     "output_type": "execute_result"
    }
   ],
   "source": [
    "cuisines_cities= df2[['Cuisines','City']]\n",
    "grouped_cuisines_cities= cuisines_cities.groupby('Cuisines').count()\n",
    "grouped_cuisines_cities=grouped_cuisines_cities.sort_values(by='City', ascending=False)\n",
    "grouped_cuisines_cities.head(10)"
   ]
  },
  {
   "cell_type": "markdown",
   "metadata": {},
   "source": [
    "# What is the maximum and minimum number of cuisines that a restaurant serves? "
   ]
  },
  {
   "cell_type": "markdown",
   "metadata": {},
   "source": [
    "- The maximum number of cuisines served is 8 and the minimum is 1."
   ]
  },
  {
   "cell_type": "code",
   "execution_count": 28,
   "metadata": {},
   "outputs": [
    {
     "data": {
      "text/html": [
       "<div>\n",
       "<style scoped>\n",
       "    .dataframe tbody tr th:only-of-type {\n",
       "        vertical-align: middle;\n",
       "    }\n",
       "\n",
       "    .dataframe tbody tr th {\n",
       "        vertical-align: top;\n",
       "    }\n",
       "\n",
       "    .dataframe thead th {\n",
       "        text-align: right;\n",
       "    }\n",
       "</style>\n",
       "<table border=\"1\" class=\"dataframe\">\n",
       "  <thead>\n",
       "    <tr style=\"text-align: right;\">\n",
       "      <th></th>\n",
       "      <th>max</th>\n",
       "      <th>min</th>\n",
       "    </tr>\n",
       "    <tr>\n",
       "      <th>Restaurant Name</th>\n",
       "      <th></th>\n",
       "      <th></th>\n",
       "    </tr>\n",
       "  </thead>\n",
       "  <tbody>\n",
       "    <tr>\n",
       "      <th>Marble</th>\n",
       "      <td>8</td>\n",
       "      <td>8</td>\n",
       "    </tr>\n",
       "    <tr>\n",
       "      <th>Mumbai Vibe</th>\n",
       "      <td>8</td>\n",
       "      <td>8</td>\n",
       "    </tr>\n",
       "    <tr>\n",
       "      <th>Healthy Food Station</th>\n",
       "      <td>8</td>\n",
       "      <td>8</td>\n",
       "    </tr>\n",
       "    <tr>\n",
       "      <th>Bikanervala</th>\n",
       "      <td>8</td>\n",
       "      <td>6</td>\n",
       "    </tr>\n",
       "    <tr>\n",
       "      <th>R' ADDA</th>\n",
       "      <td>8</td>\n",
       "      <td>8</td>\n",
       "    </tr>\n",
       "    <tr>\n",
       "      <th>...</th>\n",
       "      <td>...</td>\n",
       "      <td>...</td>\n",
       "    </tr>\n",
       "    <tr>\n",
       "      <th>Punjabi Vaishno Rasoi</th>\n",
       "      <td>1</td>\n",
       "      <td>1</td>\n",
       "    </tr>\n",
       "    <tr>\n",
       "      <th>Eddie's Patisserie</th>\n",
       "      <td>1</td>\n",
       "      <td>1</td>\n",
       "    </tr>\n",
       "    <tr>\n",
       "      <th>Eating Point</th>\n",
       "      <td>1</td>\n",
       "      <td>1</td>\n",
       "    </tr>\n",
       "    <tr>\n",
       "      <th>Punjabi by Nature</th>\n",
       "      <td>1</td>\n",
       "      <td>1</td>\n",
       "    </tr>\n",
       "    <tr>\n",
       "      <th>12212</th>\n",
       "      <td>1</td>\n",
       "      <td>1</td>\n",
       "    </tr>\n",
       "  </tbody>\n",
       "</table>\n",
       "<p>7436 rows × 2 columns</p>\n",
       "</div>"
      ],
      "text/plain": [
       "                       max  min\n",
       "Restaurant Name                \n",
       "Marble                   8    8\n",
       "Mumbai Vibe              8    8\n",
       "Healthy Food Station     8    8\n",
       "Bikanervala              8    6\n",
       "R' ADDA                  8    8\n",
       "...                    ...  ...\n",
       "Punjabi Vaishno Rasoi    1    1\n",
       "Eddie's Patisserie       1    1\n",
       "Eating Point             1    1\n",
       "Punjabi by Nature        1    1\n",
       "12212                    1    1\n",
       "\n",
       "[7436 rows x 2 columns]"
      ]
     },
     "execution_count": 28,
     "metadata": {},
     "output_type": "execute_result"
    }
   ],
   "source": [
    "df_c= df2.copy(deep=True)\n",
    "df_c\n",
    "df_c['count_cuisines']=df_c['Cuisines'].str.split(\",\").str.len()\n",
    "cus_rest= df_c[['count_cuisines','Restaurant Name']]\n",
    "cus_rest_grouped= cus_rest.groupby(['Restaurant Name'])['count_cuisines'].agg(['max','min']).sort_values(by= 'max', ascending= False)\n",
    "cus_rest_grouped\n"
   ]
  },
  {
   "cell_type": "markdown",
   "metadata": {},
   "source": [
    "# Which is the most served cuisine across the restaurant for each city?"
   ]
  },
  {
   "cell_type": "code",
   "execution_count": 29,
   "metadata": {},
   "outputs": [
    {
     "data": {
      "text/html": [
       "<div>\n",
       "<style scoped>\n",
       "    .dataframe tbody tr th:only-of-type {\n",
       "        vertical-align: middle;\n",
       "    }\n",
       "\n",
       "    .dataframe tbody tr th {\n",
       "        vertical-align: top;\n",
       "    }\n",
       "\n",
       "    .dataframe thead th {\n",
       "        text-align: right;\n",
       "    }\n",
       "</style>\n",
       "<table border=\"1\" class=\"dataframe\">\n",
       "  <thead>\n",
       "    <tr style=\"text-align: right;\">\n",
       "      <th></th>\n",
       "      <th></th>\n",
       "      <th>Restaurant Name</th>\n",
       "    </tr>\n",
       "    <tr>\n",
       "      <th>Cuisines</th>\n",
       "      <th>City</th>\n",
       "      <th></th>\n",
       "    </tr>\n",
       "  </thead>\n",
       "  <tbody>\n",
       "    <tr>\n",
       "      <th>North Indian</th>\n",
       "      <th>New Delhi</th>\n",
       "      <td>658</td>\n",
       "    </tr>\n",
       "    <tr>\n",
       "      <th>North Indian, Chinese</th>\n",
       "      <th>New Delhi</th>\n",
       "      <td>284</td>\n",
       "    </tr>\n",
       "    <tr>\n",
       "      <th>Fast Food</th>\n",
       "      <th>New Delhi</th>\n",
       "      <td>242</td>\n",
       "    </tr>\n",
       "    <tr>\n",
       "      <th>Chinese</th>\n",
       "      <th>New Delhi</th>\n",
       "      <td>228</td>\n",
       "    </tr>\n",
       "    <tr>\n",
       "      <th>North Indian, Mughlai</th>\n",
       "      <th>New Delhi</th>\n",
       "      <td>207</td>\n",
       "    </tr>\n",
       "    <tr>\n",
       "      <th>Cafe</th>\n",
       "      <th>New Delhi</th>\n",
       "      <td>158</td>\n",
       "    </tr>\n",
       "    <tr>\n",
       "      <th>Street Food</th>\n",
       "      <th>New Delhi</th>\n",
       "      <td>123</td>\n",
       "    </tr>\n",
       "    <tr>\n",
       "      <th>Bakery</th>\n",
       "      <th>New Delhi</th>\n",
       "      <td>122</td>\n",
       "    </tr>\n",
       "    <tr>\n",
       "      <th>North Indian, Mughlai, Chinese</th>\n",
       "      <th>New Delhi</th>\n",
       "      <td>120</td>\n",
       "    </tr>\n",
       "    <tr>\n",
       "      <th>Bakery, Desserts</th>\n",
       "      <th>New Delhi</th>\n",
       "      <td>117</td>\n",
       "    </tr>\n",
       "    <tr>\n",
       "      <th rowspan=\"2\" valign=\"top\">North Indian</th>\n",
       "      <th>Noida</th>\n",
       "      <td>110</td>\n",
       "    </tr>\n",
       "    <tr>\n",
       "      <th>Gurgaon</th>\n",
       "      <td>105</td>\n",
       "    </tr>\n",
       "    <tr>\n",
       "      <th>Chinese, Fast Food</th>\n",
       "      <th>New Delhi</th>\n",
       "      <td>99</td>\n",
       "    </tr>\n",
       "    <tr>\n",
       "      <th>North Indian, Chinese</th>\n",
       "      <th>Noida</th>\n",
       "      <td>97</td>\n",
       "    </tr>\n",
       "    <tr>\n",
       "      <th>Pizza, Fast Food</th>\n",
       "      <th>New Delhi</th>\n",
       "      <td>92</td>\n",
       "    </tr>\n",
       "    <tr>\n",
       "      <th>Mithai, Street Food</th>\n",
       "      <th>New Delhi</th>\n",
       "      <td>90</td>\n",
       "    </tr>\n",
       "    <tr>\n",
       "      <th>Mughlai</th>\n",
       "      <th>New Delhi</th>\n",
       "      <td>86</td>\n",
       "    </tr>\n",
       "    <tr>\n",
       "      <th>South Indian</th>\n",
       "      <th>New Delhi</th>\n",
       "      <td>81</td>\n",
       "    </tr>\n",
       "    <tr>\n",
       "      <th>Bakery, Fast Food</th>\n",
       "      <th>New Delhi</th>\n",
       "      <td>80</td>\n",
       "    </tr>\n",
       "    <tr>\n",
       "      <th>Chinese, North Indian</th>\n",
       "      <th>New Delhi</th>\n",
       "      <td>70</td>\n",
       "    </tr>\n",
       "    <tr>\n",
       "      <th>North Indian, Chinese</th>\n",
       "      <th>Gurgaon</th>\n",
       "      <td>66</td>\n",
       "    </tr>\n",
       "    <tr>\n",
       "      <th>Ice Cream, Desserts</th>\n",
       "      <th>New Delhi</th>\n",
       "      <td>64</td>\n",
       "    </tr>\n",
       "    <tr>\n",
       "      <th>Mithai</th>\n",
       "      <th>New Delhi</th>\n",
       "      <td>59</td>\n",
       "    </tr>\n",
       "    <tr>\n",
       "      <th>North Indian, Mughlai</th>\n",
       "      <th>Noida</th>\n",
       "      <td>54</td>\n",
       "    </tr>\n",
       "    <tr>\n",
       "      <th>Chinese</th>\n",
       "      <th>Noida</th>\n",
       "      <td>54</td>\n",
       "    </tr>\n",
       "    <tr>\n",
       "      <th>Fast Food</th>\n",
       "      <th>Noida</th>\n",
       "      <td>53</td>\n",
       "    </tr>\n",
       "    <tr>\n",
       "      <th>North Indian, Fast Food</th>\n",
       "      <th>New Delhi</th>\n",
       "      <td>48</td>\n",
       "    </tr>\n",
       "    <tr>\n",
       "      <th>North Indian, Chinese, Mughlai</th>\n",
       "      <th>New Delhi</th>\n",
       "      <td>46</td>\n",
       "    </tr>\n",
       "    <tr>\n",
       "      <th>Cafe</th>\n",
       "      <th>Gurgaon</th>\n",
       "      <td>45</td>\n",
       "    </tr>\n",
       "    <tr>\n",
       "      <th>North Indian, Mughlai, Chinese</th>\n",
       "      <th>Noida</th>\n",
       "      <td>44</td>\n",
       "    </tr>\n",
       "  </tbody>\n",
       "</table>\n",
       "</div>"
      ],
      "text/plain": [
       "                                          Restaurant Name\n",
       "Cuisines                       City                      \n",
       "North Indian                   New Delhi              658\n",
       "North Indian, Chinese          New Delhi              284\n",
       "Fast Food                      New Delhi              242\n",
       "Chinese                        New Delhi              228\n",
       "North Indian, Mughlai          New Delhi              207\n",
       "Cafe                           New Delhi              158\n",
       "Street Food                    New Delhi              123\n",
       "Bakery                         New Delhi              122\n",
       "North Indian, Mughlai, Chinese New Delhi              120\n",
       "Bakery, Desserts               New Delhi              117\n",
       "North Indian                   Noida                  110\n",
       "                               Gurgaon                105\n",
       "Chinese, Fast Food             New Delhi               99\n",
       "North Indian, Chinese          Noida                   97\n",
       "Pizza, Fast Food               New Delhi               92\n",
       "Mithai, Street Food            New Delhi               90\n",
       "Mughlai                        New Delhi               86\n",
       "South Indian                   New Delhi               81\n",
       "Bakery, Fast Food              New Delhi               80\n",
       "Chinese, North Indian          New Delhi               70\n",
       "North Indian, Chinese          Gurgaon                 66\n",
       "Ice Cream, Desserts            New Delhi               64\n",
       "Mithai                         New Delhi               59\n",
       "North Indian, Mughlai          Noida                   54\n",
       "Chinese                        Noida                   54\n",
       "Fast Food                      Noida                   53\n",
       "North Indian, Fast Food        New Delhi               48\n",
       "North Indian, Chinese, Mughlai New Delhi               46\n",
       "Cafe                           Gurgaon                 45\n",
       "North Indian, Mughlai, Chinese Noida                   44"
      ]
     },
     "execution_count": 29,
     "metadata": {},
     "output_type": "execute_result"
    }
   ],
   "source": [
    "cuisines_cities= df2[['Cuisines','City','Restaurant Name']]\n",
    "\n",
    "#cuisines_cities[\"count\"]= df2['City'].count()\n",
    "grouped_cuisines_cities= cuisines_cities.groupby(['Cuisines','City']).count()\n",
    "grouped_cuisines_cities=grouped_cuisines_cities.sort_values(by='Restaurant Name', ascending=False)\n",
    "grouped_cuisines_cities\n",
    "grouped_cuisines_cities.head(30)\n"
   ]
  },
  {
   "cell_type": "markdown",
   "metadata": {},
   "source": [
    "North Indian is one of the most served cuisine across multiple city"
   ]
  },
  {
   "cell_type": "code",
   "execution_count": 30,
   "metadata": {},
   "outputs": [
    {
     "data": {
      "text/html": [
       "<div>\n",
       "<style scoped>\n",
       "    .dataframe tbody tr th:only-of-type {\n",
       "        vertical-align: middle;\n",
       "    }\n",
       "\n",
       "    .dataframe tbody tr th {\n",
       "        vertical-align: top;\n",
       "    }\n",
       "\n",
       "    .dataframe thead th {\n",
       "        text-align: right;\n",
       "    }\n",
       "</style>\n",
       "<table border=\"1\" class=\"dataframe\">\n",
       "  <thead>\n",
       "    <tr style=\"text-align: right;\">\n",
       "      <th></th>\n",
       "      <th></th>\n",
       "      <th>Restaurant Name</th>\n",
       "    </tr>\n",
       "    <tr>\n",
       "      <th>Cuisines</th>\n",
       "      <th>City</th>\n",
       "      <th></th>\n",
       "    </tr>\n",
       "  </thead>\n",
       "  <tbody>\n",
       "    <tr>\n",
       "      <th rowspan=\"6\" valign=\"top\">North Indian</th>\n",
       "      <th>New Delhi</th>\n",
       "      <td>658</td>\n",
       "    </tr>\n",
       "    <tr>\n",
       "      <th>Noida</th>\n",
       "      <td>110</td>\n",
       "    </tr>\n",
       "    <tr>\n",
       "      <th>Gurgaon</th>\n",
       "      <td>105</td>\n",
       "    </tr>\n",
       "    <tr>\n",
       "      <th>Faridabad</th>\n",
       "      <td>28</td>\n",
       "    </tr>\n",
       "    <tr>\n",
       "      <th>Amritsar</th>\n",
       "      <td>7</td>\n",
       "    </tr>\n",
       "    <tr>\n",
       "      <th>Nashik</th>\n",
       "      <td>5</td>\n",
       "    </tr>\n",
       "    <tr>\n",
       "      <th>Indian</th>\n",
       "      <th>Doha</th>\n",
       "      <td>5</td>\n",
       "    </tr>\n",
       "    <tr>\n",
       "      <th>North Indian, Mughlai</th>\n",
       "      <th>Agra</th>\n",
       "      <td>5</td>\n",
       "    </tr>\n",
       "    <tr>\n",
       "      <th>Cafe</th>\n",
       "      <th>Nagpur</th>\n",
       "      <td>4</td>\n",
       "    </tr>\n",
       "    <tr>\n",
       "      <th>North Indian, Chinese</th>\n",
       "      <th>Patna</th>\n",
       "      <td>4</td>\n",
       "    </tr>\n",
       "    <tr>\n",
       "      <th>Brazilian, Bar Food</th>\n",
       "      <th>Rio de Janeiro</th>\n",
       "      <td>4</td>\n",
       "    </tr>\n",
       "    <tr>\n",
       "      <th>Brazilian</th>\n",
       "      <th>Rio de Janeiro</th>\n",
       "      <td>4</td>\n",
       "    </tr>\n",
       "    <tr>\n",
       "      <th>Cafe, Italian, Desserts, Fast Food, Chinese, Tea</th>\n",
       "      <th>Mumbai</th>\n",
       "      <td>4</td>\n",
       "    </tr>\n",
       "    <tr>\n",
       "      <th>Kebab, Turkish Pizza</th>\n",
       "      <th>Ankara</th>\n",
       "      <td>4</td>\n",
       "    </tr>\n",
       "    <tr>\n",
       "      <th>Fast Food</th>\n",
       "      <th>Bhopal</th>\n",
       "      <td>4</td>\n",
       "    </tr>\n",
       "    <tr>\n",
       "      <th>Mexican</th>\n",
       "      <th>Valdosta</th>\n",
       "      <td>4</td>\n",
       "    </tr>\n",
       "    <tr>\n",
       "      <th>Hawaiian, Seafood, Steak</th>\n",
       "      <th>Rest of Hawaii</th>\n",
       "      <td>3</td>\n",
       "    </tr>\n",
       "    <tr>\n",
       "      <th>Chinese</th>\n",
       "      <th>Bhubaneshwar</th>\n",
       "      <td>3</td>\n",
       "    </tr>\n",
       "    <tr>\n",
       "      <th>Brazilian</th>\n",
       "      <th>SÌ£o Paulo</th>\n",
       "      <td>3</td>\n",
       "    </tr>\n",
       "    <tr>\n",
       "      <th>Chinese, North Indian</th>\n",
       "      <th>Varanasi</th>\n",
       "      <td>3</td>\n",
       "    </tr>\n",
       "    <tr>\n",
       "      <th>Indian</th>\n",
       "      <th>Dubai</th>\n",
       "      <td>3</td>\n",
       "    </tr>\n",
       "    <tr>\n",
       "      <th>Pizza, Cafe, Italian</th>\n",
       "      <th>Bangalore</th>\n",
       "      <td>3</td>\n",
       "    </tr>\n",
       "    <tr>\n",
       "      <th rowspan=\"2\" valign=\"top\">Mexican</th>\n",
       "      <th>Davenport</th>\n",
       "      <td>3</td>\n",
       "    </tr>\n",
       "    <tr>\n",
       "      <th>Dubuque</th>\n",
       "      <td>3</td>\n",
       "    </tr>\n",
       "    <tr>\n",
       "      <th>Cafe</th>\n",
       "      <th>Ghaziabad</th>\n",
       "      <td>3</td>\n",
       "    </tr>\n",
       "    <tr>\n",
       "      <th rowspan=\"2\" valign=\"top\">North Indian, Chinese</th>\n",
       "      <th>Dehradun</th>\n",
       "      <td>3</td>\n",
       "    </tr>\n",
       "    <tr>\n",
       "      <th>Indore</th>\n",
       "      <td>3</td>\n",
       "    </tr>\n",
       "    <tr>\n",
       "      <th>Cafe</th>\n",
       "      <th>Dehradun</th>\n",
       "      <td>3</td>\n",
       "    </tr>\n",
       "    <tr>\n",
       "      <th>North Indian, Chinese</th>\n",
       "      <th>Allahabad</th>\n",
       "      <td>3</td>\n",
       "    </tr>\n",
       "    <tr>\n",
       "      <th>North Indian, Mughlai, Chinese, South Indian</th>\n",
       "      <th>Chennai</th>\n",
       "      <td>3</td>\n",
       "    </tr>\n",
       "  </tbody>\n",
       "</table>\n",
       "</div>"
      ],
      "text/plain": [
       "                                                                 Restaurant Name\n",
       "Cuisines                                         City                           \n",
       "North Indian                                     New Delhi                   658\n",
       "                                                 Noida                       110\n",
       "                                                 Gurgaon                     105\n",
       "                                                 Faridabad                    28\n",
       "                                                 Amritsar                      7\n",
       "                                                 Nashik                        5\n",
       "Indian                                           Doha                          5\n",
       "North Indian, Mughlai                            Agra                          5\n",
       "Cafe                                             Nagpur                        4\n",
       "North Indian, Chinese                            Patna                         4\n",
       "Brazilian, Bar Food                              Rio de Janeiro                4\n",
       "Brazilian                                        Rio de Janeiro                4\n",
       "Cafe, Italian, Desserts, Fast Food, Chinese, Tea Mumbai                        4\n",
       "Kebab, Turkish Pizza                             Ankara                        4\n",
       "Fast Food                                        Bhopal                        4\n",
       "Mexican                                          Valdosta                      4\n",
       "Hawaiian, Seafood, Steak                         Rest of Hawaii                3\n",
       "Chinese                                          Bhubaneshwar                  3\n",
       "Brazilian                                        SÌ£o Paulo                    3\n",
       "Chinese, North Indian                            Varanasi                      3\n",
       "Indian                                           Dubai                         3\n",
       "Pizza, Cafe, Italian                             Bangalore                     3\n",
       "Mexican                                          Davenport                     3\n",
       "                                                 Dubuque                       3\n",
       "Cafe                                             Ghaziabad                     3\n",
       "North Indian, Chinese                            Dehradun                      3\n",
       "                                                 Indore                        3\n",
       "Cafe                                             Dehradun                      3\n",
       "North Indian, Chinese                            Allahabad                     3\n",
       "North Indian, Mughlai, Chinese, South Indian     Chennai                       3"
      ]
     },
     "execution_count": 30,
     "metadata": {},
     "output_type": "execute_result"
    }
   ],
   "source": [
    "#Which is the most served cuisine across the restaurant for each city?\n",
    "max_cus_across_city=grouped_cuisines_cities[grouped_cuisines_cities['Restaurant Name']==grouped_cuisines_cities.groupby('City')['Restaurant Name'].transform('max')]\n",
    "max_cus_across_city.head(30)\n",
    "\n",
    "\n"
   ]
  },
  {
   "cell_type": "markdown",
   "metadata": {},
   "source": [
    "# What is the distribution cost across the restaurants?"
   ]
  },
  {
   "cell_type": "markdown",
   "metadata": {},
   "source": [
    "- Almost half of the restaurants are in the 1 price range. And the count goes down as the price range goes up. "
   ]
  },
  {
   "cell_type": "code",
   "execution_count": 31,
   "metadata": {},
   "outputs": [
    {
     "data": {
      "text/plain": [
       "(array([4438.,    0.,    0., 3113.,    0.,    0., 1404.,    0.,    0.,\n",
       "         586.]),\n",
       " array([1. , 1.3, 1.6, 1.9, 2.2, 2.5, 2.8, 3.1, 3.4, 3.7, 4. ]),\n",
       " <BarContainer object of 10 artists>)"
      ]
     },
     "execution_count": 31,
     "metadata": {},
     "output_type": "execute_result"
    },
    {
     "data": {
      "image/png": "[encoded data removed]",
      "text/plain": [
       "<Figure size 432x288 with 1 Axes>"
      ]
     },
     "metadata": {
      "needs_background": "light"
     },
     "output_type": "display_data"
    }
   ],
   "source": [
    "plt.hist(df2[\"Price range\"])\n"
   ]
  },
  {
   "cell_type": "markdown",
   "metadata": {},
   "source": [
    "# How ratings are distributed among the various factors?"
   ]
  },
  {
   "cell_type": "markdown",
   "metadata": {},
   "source": [
    "- Most of the ratings are between 2.5 and 4.5.  "
   ]
  },
  {
   "cell_type": "code",
   "execution_count": 32,
   "metadata": {},
   "outputs": [
    {
     "data": {
      "text/plain": [
       "(array([2148.,    0.,    0.,    3.,  183., 1247., 2487., 2096., 1077.,\n",
       "         300.]),\n",
       " array([0.  , 0.49, 0.98, 1.47, 1.96, 2.45, 2.94, 3.43, 3.92, 4.41, 4.9 ]),\n",
       " <BarContainer object of 10 artists>)"
      ]
     },
     "execution_count": 32,
     "metadata": {},
     "output_type": "execute_result"
    },
    {
     "data": {
      "image/png": "[encoded data removed]",
      "text/plain": [
       "<Figure size 432x288 with 1 Axes>"
      ]
     },
     "metadata": {
      "needs_background": "light"
     },
     "output_type": "display_data"
    }
   ],
   "source": [
    "plt.hist(df2['Aggregate rating'])"
   ]
  },
  {
   "cell_type": "code",
   "execution_count": 33,
   "metadata": {
    "scrolled": true
   },
   "outputs": [
    {
     "data": {
      "text/plain": [
       "(array([1077.,    0.,  300.,    0., 2096.,    0., 3734.,    0., 2148.,\n",
       "         186.]),\n",
       " array([0. , 0.5, 1. , 1.5, 2. , 2.5, 3. , 3.5, 4. , 4.5, 5. ]),\n",
       " <BarContainer object of 10 artists>)"
      ]
     },
     "execution_count": 33,
     "metadata": {},
     "output_type": "execute_result"
    },
    {
     "data": {
      "image/png": "[encoded data removed]",
      "text/plain": [
       "<Figure size 432x288 with 1 Axes>"
      ]
     },
     "metadata": {
      "needs_background": "light"
     },
     "output_type": "display_data"
    }
   ],
   "source": [
    "plt.hist(df2['Rating text'])"
   ]
  },
  {
   "cell_type": "markdown",
   "metadata": {},
   "source": [
    "# Rating vs Price"
   ]
  },
  {
   "cell_type": "markdown",
   "metadata": {},
   "source": [
    "- The box plot shows that as the price range goes up, the rating goes up. \n",
    "-When we observe the bar chart; the price range two and three have the highest very good and excellent rating.The price range two have the highest good rating. "
   ]
  },
  {
   "cell_type": "code",
   "execution_count": 34,
   "metadata": {},
   "outputs": [
    {
     "data": {
      "text/plain": [
       "<AxesSubplot:xlabel='Price range', ylabel='Aggregate rating'>"
      ]
     },
     "execution_count": 34,
     "metadata": {},
     "output_type": "execute_result"
    },
    {
     "data": {
      "image/png": "[encoded data removed]",
      "text/plain": [
       "<Figure size 864x432 with 1 Axes>"
      ]
     },
     "metadata": {
      "needs_background": "light"
     },
     "output_type": "display_data"
    }
   ],
   "source": [
    "#price range vs aggregate rating \n",
    "plt.figure(figsize= [12,6])\n",
    "sns.boxplot(x=\"Price range\",y=\"Aggregate rating\",data= df2)"
   ]
  },
  {
   "cell_type": "code",
   "execution_count": 35,
   "metadata": {},
   "outputs": [
    {
     "data": {
      "image/png": "[encoded data removed]",
      "text/plain": [
       "<Figure size 1440x576 with 1 Axes>"
      ]
     },
     "metadata": {
      "needs_background": "light"
     },
     "output_type": "display_data"
    }
   ],
   "source": [
    "#price vs rating text \n",
    "rating_price= df2[['Price range','Rating text','Restaurant Name']]\n",
    "grouped_rating_price = rating_price.groupby(['Rating text','Price range'],as_index=False).count()\n",
    "\n",
    "\n",
    "Excellent = grouped_rating_price[grouped_rating_price['Rating text']=='Excellent'].sort_values(by='Price range')\n",
    "Very_good = grouped_rating_price[grouped_rating_price['Rating text']=='Very Good'].sort_values(by='Price range')\n",
    "Good = grouped_rating_price[grouped_rating_price['Rating text']=='Good'].sort_values(by='Price range')\n",
    "Average= grouped_rating_price[grouped_rating_price['Rating text']=='Average'].sort_values(by='Price range')\n",
    "Poor = grouped_rating_price[grouped_rating_price['Rating text']=='Poor'].sort_values(by='Price range')\n",
    "Not_rated = grouped_rating_price[grouped_rating_price['Rating text']=='Not rated'].sort_values(by='Price range')\n",
    "\n",
    "\n",
    "# set width of bar\n",
    "barWidth = 0.1\n",
    "fig = plt.subplots(figsize =(20, 8))\n",
    " \n",
    "# set height of bar\n",
    "Excellent = list(Excellent['Restaurant Name'])\n",
    "Very_good = list(Very_good['Restaurant Name'])\n",
    "Good = list(Good['Restaurant Name'])\n",
    "Average = list(Average['Restaurant Name'])\n",
    "Poor = list(Poor['Restaurant Name'])\n",
    "Not_rated = list(Not_rated['Restaurant Name'])\n",
    " \n",
    "# Set position of bar on X axis\n",
    "br1 = np.arange(len(Excellent))\n",
    "br2 = [x + barWidth for x in br1]\n",
    "br3 = [x + barWidth for x in br2]\n",
    "br4 = [x + barWidth for x in br3]\n",
    "br5 = [x + barWidth for x in br4]\n",
    "br6 = [x + barWidth for x in br5]\n",
    "\n",
    "# Make the plot\n",
    "plt.bar(br1, Excellent, color ='green', width = barWidth,\n",
    "        edgecolor ='grey', label ='Excellent')\n",
    "plt.bar(br2, Very_good, color ='yellow', width = barWidth,\n",
    "        edgecolor ='grey', label ='Very Good')\n",
    "plt.bar(br3, Good, color ='blue', width = barWidth,\n",
    "        edgecolor ='grey', label ='Good')\n",
    "plt.bar(br4, Average, color ='red', width = barWidth,\n",
    "        edgecolor ='grey', label ='Average')\n",
    "plt.bar(br5, Poor, color ='pink', width = barWidth,\n",
    "        edgecolor ='grey', label ='Poor')\n",
    "plt.bar(br6, Not_rated, color ='brown', width = barWidth,\n",
    "        edgecolor ='grey', label ='Not Rated')\n",
    " \n",
    "# Adding Xticks\n",
    "plt.xlabel('price', fontweight ='bold', fontsize = 15)\n",
    "plt.ylabel('Count', fontweight ='bold', fontsize = 15)\n",
    "plt.xticks([r + barWidth for r in range(len(Excellent))],\n",
    "        ['1', '2', '3', '4'])\n",
    " \n",
    "plt.legend()\n",
    "plt.show()\n"
   ]
  },
  {
   "cell_type": "markdown",
   "metadata": {},
   "source": [
    "# Rating vs Cuisines "
   ]
  },
  {
   "cell_type": "markdown",
   "metadata": {},
   "source": [
    "- The rating improved from 1.5 to 2.75 as the number of cuisines served increased. The rating keep improving as the number of cuisines stayed at the max number of cuisines (8). This tells as the number of cuisines have correlation with improved rating of a resturants"
   ]
  },
  {
   "cell_type": "code",
   "execution_count": 36,
   "metadata": {},
   "outputs": [
    {
     "name": "stderr",
     "output_type": "stream",
     "text": [
      "<ipython-input-36-fbd010beb503>:4: SettingWithCopyWarning: \n",
      "A value is trying to be set on a copy of a slice from a DataFrame\n",
      "\n",
      "See the caveats in the documentation: https://pandas.pydata.org/pandas-docs/stable/user_guide/indexing.html#returning-a-view-versus-a-copy\n",
      "  cuisines['count_cuisines']=df2['Cuisines'].str.split(\",\").str.len()\n"
     ]
    },
    {
     "data": {
      "text/plain": [
       "Text(0, 0.5, 'Number of Cuisines')"
      ]
     },
     "execution_count": 36,
     "metadata": {},
     "output_type": "execute_result"
    },
    {
     "data": {
      "image/png": "[encoded data removed]",
      "text/plain": [
       "<Figure size 432x288 with 1 Axes>"
      ]
     },
     "metadata": {
      "needs_background": "light"
     },
     "output_type": "display_data"
    }
   ],
   "source": [
    "#distribution between number of cusinies and customer rating\n",
    "cuisines= df2['Cuisines']\n",
    "#counting how many cuisines a restaurant have \n",
    "cuisines['count_cuisines']=df2['Cuisines'].str.split(\",\").str.len()\n",
    "cuisines\n",
    "plt.bar(x =df2['Aggregate rating'],height= cuisines['count_cuisines'])\n",
    "plt.xlabel(\"Aggregate rating\")\n",
    "plt.ylabel(\"Number of Cuisines\")\n"
   ]
  },
  {
   "cell_type": "code",
   "execution_count": 37,
   "metadata": {},
   "outputs": [
    {
     "name": "stderr",
     "output_type": "stream",
     "text": [
      "<ipython-input-37-c21f1278fc67>:3: SettingWithCopyWarning: \n",
      "A value is trying to be set on a copy of a slice from a DataFrame.\n",
      "Try using .loc[row_indexer,col_indexer] = value instead\n",
      "\n",
      "See the caveats in the documentation: https://pandas.pydata.org/pandas-docs/stable/user_guide/indexing.html#returning-a-view-versus-a-copy\n",
      "  cuisines['count_cuisines']=cuisines['Cuisines'].str.split(\",\").str.len()\n"
     ]
    },
    {
     "data": {
      "text/plain": [
       "Text(0, 0.5, 'Number of Cuisines')"
      ]
     },
     "execution_count": 37,
     "metadata": {},
     "output_type": "execute_result"
    },
    {
     "data": {
      "image/png": "[encoded data removed]",
      "text/plain": [
       "<Figure size 432x288 with 1 Axes>"
      ]
     },
     "metadata": {
      "needs_background": "light"
     },
     "output_type": "display_data"
    }
   ],
   "source": [
    "#distribution between number of cusinies and customer rating with out the not rated restaurants\n",
    "cuisines= df2[df2['Aggregate rating']!=0]\n",
    "cuisines['count_cuisines']=cuisines['Cuisines'].str.split(\",\").str.len()\n",
    "plt.bar(x =cuisines['Aggregate rating'],height= cuisines['count_cuisines'])\n",
    "plt.xlabel(\"Aggregate rating\")\n",
    "plt.ylabel(\"Number of Cuisines\")\n"
   ]
  },
  {
   "cell_type": "markdown",
   "metadata": {},
   "source": [
    "# Rating vs Online delivery"
   ]
  },
  {
   "cell_type": "markdown",
   "metadata": {},
   "source": [
    "- The distribution of rating of resturants with out online delivery is skewed left while the resturant with online delivery distribution is skewed toward right. We can conclude that online delivery is correlated with improved rating.\n",
    "Also, 2000 restaurant that do not deliver are not rated vs 100 restaurants who deliver. Maybe this tells as ... "
   ]
  },
  {
   "cell_type": "code",
   "execution_count": 38,
   "metadata": {
    "scrolled": false
   },
   "outputs": [
    {
     "data": {
      "text/plain": [
       "Text(0, 0.5, 'Count')"
      ]
     },
     "execution_count": 38,
     "metadata": {},
     "output_type": "execute_result"
    },
    {
     "data": {
      "image/png": "[encoded data removed]",
      "text/plain": [
       "<Figure size 432x288 with 1 Axes>"
      ]
     },
     "metadata": {
      "needs_background": "light"
     },
     "output_type": "display_data"
    }
   ],
   "source": [
    "#distribution of rating where the restaurants do not have online delivery \n",
    "no= df2[df2['Has Online delivery']== 'No']\n",
    "#no= no[no['Aggregate rating']!= 0]\n",
    "no_data= no[['Aggregate rating','Has Online delivery']]\n",
    "grouped_no= no_data.groupby('Aggregate rating',as_index=False).count()\n",
    "grouped_no\n",
    "plt.bar(x=grouped_no['Aggregate rating'], height=grouped_no['Has Online delivery'])\n",
    "plt.xlabel(\"Aggregate rating\")\n",
    "plt.ylabel(\"Count\")\n",
    "\n",
    "\n"
   ]
  },
  {
   "cell_type": "code",
   "execution_count": 39,
   "metadata": {},
   "outputs": [
    {
     "data": {
      "text/plain": [
       "Text(0, 0.5, 'Count')"
      ]
     },
     "execution_count": 39,
     "metadata": {},
     "output_type": "execute_result"
    },
    {
     "data": {
      "image/png": "[encoded data removed]",
      "text/plain": [
       "<Figure size 432x288 with 1 Axes>"
      ]
     },
     "metadata": {
      "needs_background": "light"
     },
     "output_type": "display_data"
    }
   ],
   "source": [
    "#distribution of rating where the restaurants have online delivery \n",
    "yes= df2[df2['Has Online delivery']== 'Yes']\n",
    "#yes= yes[yes['Aggregate rating']!= 0]\n",
    "yes_data= yes[['Aggregate rating','Has Online delivery']]\n",
    "grouped_yes= yes_data.groupby('Aggregate rating',as_index=False).count()\n",
    "plt.bar(x=grouped_yes['Aggregate rating'], height=grouped_yes['Has Online delivery'])\n",
    "plt.xlabel(\"Aggregate rating\")\n",
    "plt.ylabel(\"Count\")"
   ]
  },
  {
   "cell_type": "markdown",
   "metadata": {},
   "source": [
    "# Rating vs Online booking"
   ]
  },
  {
   "cell_type": "markdown",
   "metadata": {},
   "source": [
    "- The distribution of rating of resturants with out online booking is skewed left while the resturant with online booking distribution is skewed toward right. We can conclude that online booking is correlated with improved rating.\n",
    "Also, 2000 restaurant that do not have online booking are not rated vs 45 restaurants who have online booking. We can argue that the more the customer rate a resturant the more a resturant can improve. "
   ]
  },
  {
   "cell_type": "code",
   "execution_count": 40,
   "metadata": {},
   "outputs": [
    {
     "data": {
      "text/plain": [
       "Text(0, 0.5, 'Count')"
      ]
     },
     "execution_count": 40,
     "metadata": {},
     "output_type": "execute_result"
    },
    {
     "data": {
      "image/png": "[encoded data removed]",
      "text/plain": [
       "<Figure size 432x288 with 1 Axes>"
      ]
     },
     "metadata": {
      "needs_background": "light"
     },
     "output_type": "display_data"
    }
   ],
   "source": [
    "#distribution of rating where the restaurants have online booking\n",
    "yes= df2[df2['Has Table booking']== 'Yes']\n",
    "#yes= yes[yes['Aggregate rating']!= 0]\n",
    "yes_data= yes[['Aggregate rating','Has Table booking']]\n",
    "grouped_yes= yes_data.groupby('Aggregate rating',as_index=False).count()\n",
    "plt.bar(x=grouped_yes['Aggregate rating'], height=grouped_yes['Has Table booking'])\n",
    "plt.xlabel(\"Aggregate rating\")\n",
    "plt.ylabel(\"Count\")"
   ]
  },
  {
   "cell_type": "markdown",
   "metadata": {},
   "source": [
    "- The distribution of rating of resturants with out online booking is skewed right and around 2000 resturants are not rated."
   ]
  },
  {
   "cell_type": "code",
   "execution_count": 41,
   "metadata": {},
   "outputs": [
    {
     "data": {
      "text/plain": [
       "Text(0, 0.5, 'Count')"
      ]
     },
     "execution_count": 41,
     "metadata": {},
     "output_type": "execute_result"
    },
    {
     "data": {
      "image/png": "[encoded data removed]",
      "text/plain": [
       "<Figure size 432x288 with 1 Axes>"
      ]
     },
     "metadata": {
      "needs_background": "light"
     },
     "output_type": "display_data"
    }
   ],
   "source": [
    "#distribution of rating where the resturants do not have online booking\n",
    "no= df2[df2['Has Table booking']== 'No']\n",
    "#no= no[no['Aggregate rating']!= 0]\n",
    "no_data= no[['Aggregate rating','Has Table booking']]\n",
    "grouped_no= no_data.groupby('Aggregate rating',as_index=False).count()\n",
    "plt.bar(x=grouped_no['Aggregate rating'], height=grouped_no['Has Table booking'])\n",
    "plt.xlabel(\"Aggregate rating\")\n",
    "plt.ylabel(\"Count\")"
   ]
  },
  {
   "cell_type": "markdown",
   "metadata": {},
   "source": [
    "# Report"
   ]
  },
  {
   "cell_type": "markdown",
   "metadata": {},
   "source": [
    "\n",
    "Determine certain matrices to identify the star restaurants and generate recommendations.\n",
    "\n",
    "The geographical distribution of the restaurants are not balanced. 90% percent of the restaurants are in India and 4.4% are in the United States. The remaining 5% is divided into 13 countries. It is fair to say that this report is more reliable in India than in other countries.\n",
    "\n",
    "Cafe Coffee Day, Domino's pizza, Subway, Green Chick Chop and McDonald's are the franchises that have the most national presence. New Delhi, Gurgaon, Noida, Faridabad and Ghaziabad are the cities with the most restaurants. The ten top cuisines served across cities are North Indian, (North Indian, Chinese), Fast Food, (North Indian, Mughlai), Cafe, Bakery, (North Indian, Mughlai, Chinese), (Bakery,Desserts), Street Food. \n",
    "\n",
    "Matrices that affect rating of the restaurants \n",
    "\n",
    "From the analysis we did, the number of cuisines a restaurant serves, price and whether a restaurant has online delivery and booking are related to the ratings and votes of the restaurants.\n",
    "When we see the analysis between online delivery and number of votes, 25% of the restaurants have online delivery, however, they occupy 34.6% of the votes. This shows that the restaurants that have online delivery have a higher percentage of votes than the restaurants that do not deliver.\n",
    "The distribution of customer rating of restaurants without online delivery is skewed towards left while the restaurants with online delivery distribution is skewed toward right. The distribution of online booking vs rating have the same result. This means that online delivery and online booking have higher ratings. Also, 2000 restaurants that do not have online booking and online delivery are not rated vs 45 and 100 restaurants that have online booking and delivery respectively. When a restaurant has online delivery and booking customers tend to rate restaurants more. \n",
    "The restaurants that serve more than one cuisine have higher rating.Also, the restaurants that have medium price (price range from 2 to 3) have better rating (very good and excellent). When we observe the overall picture from a box plot it seems as the rating increases as price increases. \n",
    "\n",
    "The resturants can have better and higher ratings and votes by providing more cuisine options, online delivery, online booking with a medium price.\n",
    "\n",
    "\n"
   ]
  },
  {
   "cell_type": "code",
   "execution_count": null,
   "metadata": {},
   "outputs": [],
   "source": []
  },
  {
   "cell_type": "code",
   "execution_count": null,
   "metadata": {},
   "outputs": [],
   "source": []
  }
 ],
 "metadata": {
  "kernelspec": {
   "display_name": "Python 3",
   "language": "python",
   "name": "python3"
  },
  "language_info": {
   "codemirror_mode": {
    "name": "ipython",
    "version": 3
   },
   "file_extension": ".py",
   "mimetype": "text/x-python",
   "name": "python",
   "nbconvert_exporter": "python",
   "pygments_lexer": "ipython3",
   "version": "3.8.5"
  }
 },
 "nbformat": 4,
 "nbformat_minor": 4
}
